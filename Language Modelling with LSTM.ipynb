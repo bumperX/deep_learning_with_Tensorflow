{
 "cells": [
  {
   "cell_type": "markdown",
   "metadata": {},
   "source": [
    "<a href=\"https://www.bigdatauniversity.com\"><img src=\"https://ibm.box.com/shared/static/qo20b88v1hbjztubt06609ovs85q8fau.png\" width=\"400px\" align=\"center\"></a>\n",
    "\n",
    "<h1>RECURRENT NETWORKS and LSTM IN DEEP LEARNING</h1>"
   ]
  },
  {
   "cell_type": "markdown",
   "metadata": {},
   "source": [
    "<h2>Applying Recurrent Neural Networks/LSTM for Language Modeling</h2>\n",
    "\n",
    "Hello and welcome to this part. In this notebook, we will go over the topic of Language Modelling, and create a Recurrent Neural Network model based on the Long Short-Term Memory unit to train and benchmark on the Penn Treebank dataset. By the end of this notebook, you should be able to understand how TensorFlow builds and executes a RNN model for Language Modelling.\n",
    "\n",
    "<h2>The Objective</h2>\n",
    "\n",
    "By now, you should have an understanding of how Recurrent Networks work -- a specialized model to process sequential data by keeping track of the \"state\" or context. In this notebook, we go over a TensorFlow code snippet for creating a model focused on <b>Language Modelling</b> -- a very relevant task that is the cornerstone of many different linguistic problems such as <b>Speech Recognition, Machine Translation and Image Captioning</b>. For this, we will be using the Penn Treebank dataset, which is an often-used dataset for benchmarking Language Modelling models.\n",
    "\n",
    "\n",
    "<h2>Table of Contents</h2>\n",
    "<ol>\n",
    "    <li><a href=\"#language_modelling\">What exactly is Language Modelling?</a></li>\n",
    "    <li><a href=\"#treebank_dataset\">The Penn Treebank dataset</a></li>\n",
    "    <li><a href=\"#word_embedding\">Work Embedding</a></li>\n",
    "    <li><a href=\"#building_lstm_model\">Building the LSTM model for Language Modeling</a></li>\n",
    "    <li><a href=\"#ltsm\">LTSM</a></li>\n",
    "</ol>\n",
    "<hr>"
   ]
  },
  {
   "cell_type": "markdown",
   "metadata": {},
   "source": [
    "<a id=\"language_modelling\"></a>\n",
    "<h2>What exactly is Language Modelling?</h2>\n",
    "\n",
    "Language Modelling, to put it simply, <b>is the task of assigning probabilities to sequences of words</b>. This means that, given a context of one or a sequence of words in the language the model was trained on, the model should provide the next most probable words or sequence of words that follows from the given sequence of words the sentence. Language Modelling is one of the most important tasks in Natural Language Processing.\n",
    "\n",
    "<img src=\"https://ibm.box.com/shared/static/1d1i5gub6wljby2vani2vzxp0xsph702.png\" width=\"1080\">\n",
    "<center><i>Example of a sentence being predicted</i></center>\n",
    "<br><br>\n",
    "In this example, one can see the predictions for the next word of a sentence, given the context \"This is an\". As you can see, this boils down to a sequential data analysis task -- you are given a word or a sequence of words (the input data), and, given the context (the state), you need to find out what is the next word (the prediction). This kind of analysis is very important for language-related tasks such as <b>Speech Recognition, Machine Translation, Image Captioning, Text Correction</b> and many other very relevant problems. \n",
    "\n",
    "<img src=\"https://ibm.box.com/shared/static/az39idf9ipfdpc5ugifpgxnydelhyf3i.png\" width=\"1080\">\n",
    "<center><i>The above example is a schema of an RNN in execution</i></center>\n",
    "<br><br>\n",
    "As the above image shows, Recurrent Network models fit this problem like a glove. Alongside LSTM and its capacity to maintain the model's state for over one thousand time steps, we have all the tools we need to undertake this problem. The goal for this notebook is to create a model that can reach <b>low levels of perplexity</b> on our desired dataset.\n",
    "\n",
    "For Language Modelling problems, <b>perplexity</b> is the way to gauge efficiency. Perplexity is simply a measure of how well a probabilistic model is able to predict its sample. A higher-level way to explain this would be saying that <b>low perplexity means a higher degree of trust in the predictions the model makes</b>. Therefore, the lower perplexity is, the better.\n",
    "\n",
    "<a id=\"treebank_dataset\"></a>\n",
    "<h2>The Penn Treebank dataset</h2>\n",
    "\n",
    "Historically, datasets big enough for Natural Language Processing are hard to come by. This is in part due to the necessity of the sentences to be broken down and tagged with a certain degree of correctness -- or else the models trained on it won't be able to be correct at all. This means that we need a <b>large amount of data, annotated by or at least corrected by humans</b>. This is, of course, not an easy task at all.\n",
    "\n",
    "The Penn Treebank, or PTB for short, is a dataset maintained by the University of Pennsylvania. It is <i>huge</i> -- there are over <b>four million and eight hundred thousand</b> annotated words in it, all corrected by humans. It is composed of many different sources, from abstracts of Department of Energy papers to texts from the Library of America. Since it is verifiably correct and of such a huge size, the Penn Treebank is commonly used as a benchmark dataset for Language Modelling.\n",
    "\n",
    "The dataset is divided in different kinds of annotations, such as Piece-of-Speech, Syntactic and Semantic skeletons. For this example, we will simply use a sample of clean, non-annotated words (with the exception of one tag --<code>&lt;unk&gt;</code>\n",
    ", which is used for rare words such as uncommon proper nouns) for our model. This means that we just want to predict what the next words would be, not what they mean in context or their classes on a given sentence.\n",
    "\n",
    "Example of text from the dataset we are going to use, <b>ptb.train</b>\n",
    "\n",
    "<div class=\"alert alert-block alert-info\" style=\"margin-top: 20px\">\n",
    "    <center>the percentage of lung cancer deaths among the workers at the west <code>&lt;unk&gt;</code> mass. paper factory appears to be the highest for any asbestos workers studied in western industrialized countries he said \n",
    " the plant which is owned by <code>&lt;unk&gt;</code> & <code>&lt;unk&gt;</code> co. was under contract with <code>&lt;unk&gt;</code> to make the cigarette filters \n",
    " the finding probably will support those who argue that the U.S. should regulate the class of asbestos including <code>&lt;unk&gt;</code> more <code>&lt;unk&gt;</code> than the common kind of asbestos <code>&lt;unk&gt;</code> found in most schools and other buildings dr. <code>&lt;unk&gt;</code> said</center>\n",
    "</div>\n",
    "\n",
    "<a id=\"word_embedding\"></a>\n",
    "<h2>Word Embeddings</h2>\n",
    "\n",
    "For better processing, in this example, we will make use of <a href=\"https://www.tensorflow.org/tutorials/word2vec/\"><b>word embeddings</b></a>, which is <b>a way of representing sentence structures or words as n-dimensional vectors (where n is a reasonably high number, such as 200 or 500) of real numbers</b>. Basically, we will assign each word a randomly-initialized vector, and input those into the network to be processed. After a number of iterations, these vectors are expected to assume values that help the network to correctly predict what it needs to -- in our case, the probable next word in the sentence. This is shown to be a very effective task in Natural Language Processing, and is a commonplace practice.\n",
    "<br><br>\n",
    "<font size=\"4\"><strong>\n",
    "$$Vec(\"Example\") = [0.02, 0.00, 0.00, 0.92, 0.30, \\ldots]$$\n",
    "</strong></font>\n",
    "<br>\n",
    "Word Embedding tends to group up similarly used words <i>reasonably</i> close together in the vectorial space. For example, if we use T-SNE (a dimensional reduction visualization algorithm) to flatten the dimensions of our vectors into a 2-dimensional space and plot these words in a 2-dimensional space, we might see something like this:\n",
    "\n",
    "<img src=\"https://ibm.box.com/shared/static/bqhc5dg879gcoabzhxra1w8rkg3od1cu.png\" width=\"800\">\n",
    "<center><i>T-SNE Mockup with clusters marked for easier visualization</i></center>\n",
    "\n",
    "As you can see, words that are frequently used together, in place of each other, or in the same places as them tend to be grouped together -- being closer together the higher they are correlated. For example, \"None\" is pretty semantically close to \"Zero\", while a phrase that uses \"Italy\", you could probably also fit \"Germany\" in it, with little damage to the sentence structure. The vectorial \"closeness\" for similar words like this is a great indicator of a well-built model.\n",
    "\n",
    "<hr>\n",
    " \n",
    "We need to import the necessary modules for our code. We need <b><code>numpy</code></b> and <b><code>tensorflow</code></b>, obviously. Additionally, we can import directly the <b><code>tensorflow.models.rnn</code></b> model, which includes the function for building RNNs, and <b><code>tensorflow.models.rnn.ptb.reader</code></b> which is the helper module for getting the input data from the dataset we just downloaded.\n",
    "\n",
    "If you want to learn more take a look at https://github.com/tensorflow/models/blob/master/tutorials/rnn/ptb/reader.py"
   ]
  },
  {
   "cell_type": "code",
   "execution_count": 5,
   "metadata": {},
   "outputs": [],
   "source": [
    "import time\n",
    "import numpy as np\n",
    "import tensorflow as tf"
   ]
  },
  {
   "cell_type": "code",
   "execution_count": 3,
   "metadata": {},
   "outputs": [
    {
     "name": "stderr",
     "output_type": "stream",
     "text": [
      "子目录或文件 data 已经存在。\n"
     ]
    },
    {
     "name": "stdout",
     "output_type": "stream",
     "text": [
      "Archive:  data/ptb.zip\n",
      "   creating: data/ptb/\n",
      "  inflating: data/ptb/reader.py      \n",
      "   creating: data/__MACOSX/\n",
      "   creating: data/__MACOSX/ptb/\n",
      "  inflating: data/__MACOSX/ptb/._reader.py  \n",
      "  inflating: data/__MACOSX/._ptb     \n"
     ]
    }
   ],
   "source": [
    "!mkdir data\n",
    "!wget -q -O data/ptb.zip https://ibm.box.com/shared/static/z2yvmhbskc45xd2a9a4kkn6hg4g4kj5r.zip\n",
    "!unzip -o data/ptb.zip -d data\n",
    "!cp data/ptb/reader.py ."
   ]
  },
  {
   "cell_type": "code",
   "execution_count": 4,
   "metadata": {},
   "outputs": [],
   "source": [
    "import reader"
   ]
  },
  {
   "cell_type": "markdown",
   "metadata": {},
   "source": [
    "<a id=\"building_lstm_model\"></a>\n",
    "<h2>Building the LSTM model for Language Modeling</h2>\n",
    "\n",
    "Now that we know exactly what we are doing, we can start building our model using TensorFlow. The very first thing we need to do is download and extract the <code>simple-examples</code> dataset, which can be done by executing the code cell below."
   ]
  },
  {
   "cell_type": "code",
   "execution_count": null,
   "metadata": {},
   "outputs": [],
   "source": [
    "!wget http://www.fit.vutbr.cz/~imikolov/rnnlm/simple-examples.tgz "
   ]
  },
  {
   "cell_type": "code",
   "execution_count": 6,
   "metadata": {},
   "outputs": [],
   "source": [
    "!tar xzf simple-examples.tgz -C data/"
   ]
  },
  {
   "cell_type": "markdown",
   "metadata": {},
   "source": [
    "Additionally, for the sake of making it easy to play around with the model's hyperparameters, we can declare them beforehand. Feel free to change these -- you will see a difference in performance each time you change those!  \n"
   ]
  },
  {
   "cell_type": "code",
   "execution_count": 7,
   "metadata": {},
   "outputs": [],
   "source": [
    "#Initial weight scale\n",
    "init_scale = 0.1\n",
    "\n",
    "#Initial learning rate\n",
    "learning_rate = 1.0\n",
    "\n",
    "#Maximum permissible norm for the gradient (For gradient clipping -- another measure against Exploding Gradients)\n",
    "max_grad_norm = 5\n",
    "\n",
    "#The number of layers in our model\n",
    "num_layers = 2\n",
    "\n",
    "#The total number of recurrence steps, also known as the number of layers when our RNN is \"unfolded\"\n",
    "num_steps = 20\n",
    "\n",
    "#The number of processing units (neurons) in the hidden layers\n",
    "hidden_size_l1 = 256\n",
    "hidden_size_l2 = 128\n",
    "\n",
    "#The maximum number of epochs trained with the initial learning rate\n",
    "max_epoch_decay_lr = 4\n",
    "\n",
    "#The total number of epochs in training\n",
    "max_epoch = 15\n",
    "\n",
    "#The probability for keeping data in the Dropout Layer (This is an optimization, but is outside our scope for this notebook!)\n",
    "#At 1, we ignore the Dropout Layer wrapping.\n",
    "keep_prob = 1\n",
    "\n",
    "#The decay for the learning rate\n",
    "decay = 0.5\n",
    "\n",
    "#The size for each batch of data\n",
    "batch_size = 60\n",
    "\n",
    "#The size of our vocabulary\n",
    "vocab_size = 10000\n",
    "embeding_vector_size = 200\n",
    "\n",
    "#Training flag to separate training from testing\n",
    "is_training = 1\n",
    "\n",
    "#Data directory for our dataset\n",
    "data_dir = \"data/simple-examples/data/\""
   ]
  },
  {
   "cell_type": "markdown",
   "metadata": {},
   "source": [
    "Some clarifications for LSTM architecture based on the arguments:\n",
    "\n",
    "Network structure:\n",
    "<ul>\n",
    "    <li>In this network, the number of LSTM cells are 2. To give the model more expressive power, we can add multiple layers of LSTMs to process the data. The output of the first layer will become the input of the second and so on.\n",
    "    </li>\n",
    "    <li>The recurrence steps is 20, that is, when our RNN is \"Unfolded\", the recurrence step is 20.</li>   \n",
    "    <li>the structure is like:\n",
    "        <ul>\n",
    "            <li>200 input units -> [200x200] Weight -> 200 Hidden units (first layer) -> [200x200] Weight matrix  -> 200 Hidden units (second layer) ->  [200] weight Matrix -> 200 unit output</li>\n",
    "        </ul>\n",
    "    </li>\n",
    "</ul>\n",
    "\n",
    "Input layer: \n",
    "<ul>\n",
    "    <li>The network has 200 input units.</li>\n",
    "    <li>Suppose each word is represented by an embedding vector of dimensionality e=200. The input layer of each cell will have 200 linear units. These e=200 linear units are connected to each of the h=200 LSTM units in the hidden layer (assuming there is only one hidden layer, though our case has 2 layers).\n",
    "    </li>\n",
    "    <li>The input shape is [batch_size, num_steps], that is [30x20]. It will turn into [30x20x200] after embedding, and then 20x[30x200]\n",
    "    </li>\n",
    "</ul>\n",
    "<br>\n",
    "\n",
    "Hidden layer:\n",
    "<ul>\n",
    "    <li>Each LSTM has 200 hidden units which is equivalent to the dimensionality of the embedding words and output.</li>\n",
    "</ul>\n",
    "\n",
    "\n",
    "There is a lot to be done and a ton of information to process at the same time, so go over this code slowly. It may seem complex at first, but if you try to apply what you just learned about language modelling to the code you see, you should be able to understand it.\n",
    "\n",
    "This code is adapted from the <a href=\"https://github.com/tensorflow/models\">PTBModel</a> example bundled with the TensorFlow source code.\n",
    "\n",
    "\n",
    "<b>Train data</b>\n",
    "\n",
    "The story starts from data:\n",
    "<ul>\n",
    "    <li>Train data is a list of words, of size 929589, represented by numbers, e.g. [9971, 9972, 9974, 9975,...]</li>\n",
    "    <li>We read data as mini-batch of size b=30. Assume the size of each sentence is 20 words (num_steps = 20). Then it will take $$floor(\\frac{N}{b \\times h})+1=1548$$ iterations for the learner to go through all sentences once. Where <b>N</b> is the size of the list of words, <b>b</b> is batch size, and <b>h</b> is size of each sentence. So, the number of iterators is 1548\n",
    "    </li>\n",
    "    <li>Each batch data is read from train dataset of size 600, and shape of [30x20]</li>\n",
    "</ul>\n",
    "\n",
    "First we start an interactive session:"
   ]
  },
  {
   "cell_type": "code",
   "execution_count": 8,
   "metadata": {},
   "outputs": [],
   "source": [
    "session = tf.InteractiveSession()"
   ]
  },
  {
   "cell_type": "code",
   "execution_count": 9,
   "metadata": {},
   "outputs": [],
   "source": [
    "# Reads the data and seperates it into training data, validation data and testing data\n",
    "raw_data = reader.ptb_raw_data(data_dir)\n",
    "train_data, valid_data, test_data, vocab, word_to_id = raw_data"
   ]
  },
  {
   "cell_type": "code",
   "execution_count": 15,
   "metadata": {},
   "outputs": [
    {
     "data": {
      "text/plain": [
       "929589"
      ]
     },
     "execution_count": 15,
     "metadata": {},
     "output_type": "execute_result"
    }
   ],
   "source": [
    "len(train_data)"
   ]
  },
  {
   "cell_type": "code",
   "execution_count": 16,
   "metadata": {},
   "outputs": [
    {
     "name": "stdout",
     "output_type": "stream",
     "text": [
      "['aer', 'banknote', 'berlitz', 'calloway', 'centrust', 'cluett', 'fromstein', 'gitano', 'guterman', 'hydro-quebec', 'ipo', 'kia', 'memotec', 'mlx', 'nahb', 'punts', 'rake', 'regatta', 'rubens', 'sim', 'snack-food', 'ssangyong', 'swapo', 'wachter', '<eos>', 'pierre', '<unk>', 'N', 'years', 'old', 'will', 'join', 'the', 'board', 'as', 'a', 'nonexecutive', 'director', 'nov.', 'N', '<eos>', 'mr.', '<unk>', 'is', 'chairman', 'of', '<unk>', 'n.v.', 'the', 'dutch', 'publishing', 'group', '<eos>', 'rudolph', '<unk>', 'N', 'years', 'old', 'and', 'former', 'chairman', 'of', 'consolidated', 'gold', 'fields', 'plc', 'was', 'named', 'a', 'nonexecutive', 'director', 'of', 'this', 'british', 'industrial', 'conglomerate', '<eos>', 'a', 'form', 'of', 'asbestos', 'once', 'used', 'to', 'make', 'kent', 'cigarette', 'filters', 'has', 'caused', 'a', 'high', 'percentage', 'of', 'cancer', 'deaths', 'among', 'a', 'group', 'of']\n"
     ]
    }
   ],
   "source": [
    "def id_to_word(id_list):\n",
    "    line = []\n",
    "    for w in id_list:\n",
    "        for word, wid in word_to_id.items():\n",
    "            if wid == w:\n",
    "                line.append(word)\n",
    "    return line\n",
    "\n",
    "print(id_to_word(train_data[0:100]))"
   ]
  },
  {
   "cell_type": "markdown",
   "metadata": {},
   "source": [
    "Let's just read one mini-batch now and feed our network:"
   ]
  },
  {
   "cell_type": "code",
   "execution_count": 20,
   "metadata": {},
   "outputs": [],
   "source": [
    "itera = reader.ptb_iterator(train_data, batch_size, num_steps)\n",
    "first_touple = itera.__next__()\n",
    "x = first_touple[0]\n",
    "y = first_touple[1]"
   ]
  },
  {
   "cell_type": "code",
   "execution_count": 24,
   "metadata": {},
   "outputs": [
    {
     "data": {
      "text/plain": [
       "(60, 20)"
      ]
     },
     "execution_count": 24,
     "metadata": {},
     "output_type": "execute_result"
    }
   ],
   "source": [
    "x.shape"
   ]
  },
  {
   "cell_type": "markdown",
   "metadata": {},
   "source": [
    "Let's look at 3 sentences of our input x:"
   ]
  },
  {
   "cell_type": "code",
   "execution_count": 25,
   "metadata": {},
   "outputs": [
    {
     "data": {
      "text/plain": [
       "array([[9970, 9971, 9972, 9974, 9975, 9976, 9980, 9981, 9982, 9983, 9984,\n",
       "        9986, 9987, 9988, 9989, 9991, 9992, 9993, 9994, 9995],\n",
       "       [ 901,   33, 3361,    8, 1279,  437,  597,    6,  261, 4276, 1089,\n",
       "           8, 2836,    2,  269,    4, 5526,  241,   13, 2420],\n",
       "       [2654,    6,  334, 2886,    4,    1,  233,  711,  834,   11,  130,\n",
       "         123,    7,  514,    2,   63,   10,  514,    8,  605]])"
      ]
     },
     "execution_count": 25,
     "metadata": {},
     "output_type": "execute_result"
    }
   ],
   "source": [
    "x[0:3]"
   ]
  },
  {
   "cell_type": "markdown",
   "metadata": {},
   "source": [
    "we define 2 place holders to feed them with mini-batchs, that is x and y:"
   ]
  },
  {
   "cell_type": "code",
   "execution_count": 27,
   "metadata": {},
   "outputs": [],
   "source": [
    "_input_data = tf.placeholder(tf.int32, [batch_size, num_steps]) # [30x20]\n",
    "_targets = tf.placeholder(tf.int32, [batch_size, num_steps]) #[30x20]"
   ]
  },
  {
   "cell_type": "markdown",
   "metadata": {},
   "source": [
    "Let's define a dictionary, and use it later to feed the placeholders with pur first mini_batch:"
   ]
  },
  {
   "cell_type": "code",
   "execution_count": 28,
   "metadata": {},
   "outputs": [],
   "source": [
    "feed_dict = {_input_data:x, _targets:y}"
   ]
  },
  {
   "cell_type": "markdown",
   "metadata": {},
   "source": [
    "For example, we can use it to feed `_input_data`:"
   ]
  },
  {
   "cell_type": "code",
   "execution_count": 29,
   "metadata": {},
   "outputs": [
    {
     "data": {
      "text/plain": [
       "array([[9970, 9971, 9972, ..., 9993, 9994, 9995],\n",
       "       [ 901,   33, 3361, ...,  241,   13, 2420],\n",
       "       [2654,    6,  334, ...,  514,    8,  605],\n",
       "       ...,\n",
       "       [7831,   36, 1678, ...,    4, 4558,  157],\n",
       "       [  59, 2070, 2433, ...,  400,    1, 1173],\n",
       "       [2097,    3,    2, ..., 2043,   23,    1]])"
      ]
     },
     "execution_count": 29,
     "metadata": {},
     "output_type": "execute_result"
    }
   ],
   "source": [
    "session.run(_input_data, feed_dict)"
   ]
  },
  {
   "cell_type": "markdown",
   "metadata": {},
   "source": [
    "In this step, we create the stacked LSTM, which is a 2 layer LSTM network:"
   ]
  },
  {
   "cell_type": "code",
   "execution_count": 30,
   "metadata": {},
   "outputs": [
    {
     "name": "stdout",
     "output_type": "stream",
     "text": [
      "WARNING:tensorflow:From <ipython-input-30-ddf565d0e753>:1: BasicLSTMCell.__init__ (from tensorflow.python.ops.rnn_cell_impl) is deprecated and will be removed in a future version.\n",
      "Instructions for updating:\n",
      "This class is deprecated, please use tf.nn.rnn_cell.LSTMCell, which supports all the feature this cell currently has. Please replace the existing code with tf.nn.rnn_cell.LSTMCell(name='basic_lstm_cell').\n"
     ]
    }
   ],
   "source": [
    "lstm_cell_l1 = tf.contrib.rnn.BasicLSTMCell(hidden_size_l1, forget_bias=0.0)\n",
    "lstm_cell_l2 = tf.contrib.rnn.BasicLSTMCell(hidden_size_l2, forget_bias=0.0)\n",
    "stacked_lstm = tf.contrib.rnn.MultiRNNCell([lstm_cell_l1, lstm_cell_l2])"
   ]
  },
  {
   "cell_type": "markdown",
   "metadata": {},
   "source": [
    "Also, we initialize the states of the nework:\n",
    "\n",
    "<b>\\_initial\\_state</b>\n",
    "\n",
    "For each LCTM, there are 2 state matrices, c\\_state and m\\_state.  c_state and m_state represent \"Memory State\" and \"Cell State\". Each hidden layer, has a vector of size 30, which keeps the states. so, for 200 hidden units in each LSTM, we have a matrix of size [30x200]"
   ]
  },
  {
   "cell_type": "code",
   "execution_count": 31,
   "metadata": {},
   "outputs": [
    {
     "data": {
      "text/plain": [
       "(LSTMStateTuple(c=<tf.Tensor 'MultiRNNCellZeroState/BasicLSTMCellZeroState/zeros:0' shape=(60, 256) dtype=float32>, h=<tf.Tensor 'MultiRNNCellZeroState/BasicLSTMCellZeroState/zeros_1:0' shape=(60, 256) dtype=float32>),\n",
       " LSTMStateTuple(c=<tf.Tensor 'MultiRNNCellZeroState/BasicLSTMCellZeroState_1/zeros:0' shape=(60, 128) dtype=float32>, h=<tf.Tensor 'MultiRNNCellZeroState/BasicLSTMCellZeroState_1/zeros_1:0' shape=(60, 128) dtype=float32>))"
      ]
     },
     "execution_count": 31,
     "metadata": {},
     "output_type": "execute_result"
    }
   ],
   "source": [
    "_initial_state = stacked_lstm.zero_state(batch_size, tf.float32)\n",
    "_initial_state"
   ]
  },
  {
   "cell_type": "markdown",
   "metadata": {},
   "source": [
    "Let's look at the states, though they are all zero for now:"
   ]
  },
  {
   "cell_type": "code",
   "execution_count": 32,
   "metadata": {},
   "outputs": [
    {
     "data": {
      "text/plain": [
       "(LSTMStateTuple(c=array([[0., 0., 0., ..., 0., 0., 0.],\n",
       "        [0., 0., 0., ..., 0., 0., 0.],\n",
       "        [0., 0., 0., ..., 0., 0., 0.],\n",
       "        ...,\n",
       "        [0., 0., 0., ..., 0., 0., 0.],\n",
       "        [0., 0., 0., ..., 0., 0., 0.],\n",
       "        [0., 0., 0., ..., 0., 0., 0.]], dtype=float32), h=array([[0., 0., 0., ..., 0., 0., 0.],\n",
       "        [0., 0., 0., ..., 0., 0., 0.],\n",
       "        [0., 0., 0., ..., 0., 0., 0.],\n",
       "        ...,\n",
       "        [0., 0., 0., ..., 0., 0., 0.],\n",
       "        [0., 0., 0., ..., 0., 0., 0.],\n",
       "        [0., 0., 0., ..., 0., 0., 0.]], dtype=float32)),\n",
       " LSTMStateTuple(c=array([[0., 0., 0., ..., 0., 0., 0.],\n",
       "        [0., 0., 0., ..., 0., 0., 0.],\n",
       "        [0., 0., 0., ..., 0., 0., 0.],\n",
       "        ...,\n",
       "        [0., 0., 0., ..., 0., 0., 0.],\n",
       "        [0., 0., 0., ..., 0., 0., 0.],\n",
       "        [0., 0., 0., ..., 0., 0., 0.]], dtype=float32), h=array([[0., 0., 0., ..., 0., 0., 0.],\n",
       "        [0., 0., 0., ..., 0., 0., 0.],\n",
       "        [0., 0., 0., ..., 0., 0., 0.],\n",
       "        ...,\n",
       "        [0., 0., 0., ..., 0., 0., 0.],\n",
       "        [0., 0., 0., ..., 0., 0., 0.],\n",
       "        [0., 0., 0., ..., 0., 0., 0.]], dtype=float32)))"
      ]
     },
     "execution_count": 32,
     "metadata": {},
     "output_type": "execute_result"
    }
   ],
   "source": [
    "session.run(_initial_state, feed_dict)"
   ]
  },
  {
   "cell_type": "markdown",
   "metadata": {},
   "source": [
    "<h3>Embeddings</h3>\n",
    "\n",
    "We have to convert the words in our dataset to vectors of numbers. The traditional approach is to use one-hot encoding method that is usually used for converting categorical values to numerical values. However, One-hot encoded vectors are high-dimensional, sparse and in a big dataset, computationally inefficient. So, we use word2vec approach. It is, in fact, a layer in our LSTM network, where the word IDs will be represented as a dense representation before feeding to the LSTM. \n",
    "\n",
    "The embedded vectors also get updated during the training process of the deep neural network.\n",
    "We create the embeddings for our input data. <b>embedding_vocab</b> is matrix of [10000x200] for all 10000 unique words."
   ]
  },
  {
   "cell_type": "code",
   "execution_count": 33,
   "metadata": {},
   "outputs": [],
   "source": [
    "embedding_vocab = tf.get_variable(\"embedding_vocab\", [vocab_size, embeding_vector_size])  #[10000x200]"
   ]
  },
  {
   "cell_type": "markdown",
   "metadata": {},
   "source": [
    "Let's initialize the `embedding_words` variable with random values."
   ]
  },
  {
   "cell_type": "code",
   "execution_count": 34,
   "metadata": {},
   "outputs": [
    {
     "data": {
      "text/plain": [
       "array([[-0.00180534,  0.00779168,  0.01676742, ..., -0.01350582,\n",
       "         0.02120441, -0.02204504],\n",
       "       [-0.0158208 ,  0.01473527, -0.01589829, ...,  0.01963938,\n",
       "        -0.00757449,  0.00727036],\n",
       "       [-0.01433432, -0.01126112,  0.00028062, ..., -0.00917196,\n",
       "        -0.01437914, -0.01822549],\n",
       "       ...,\n",
       "       [-0.02015841, -0.01883264, -0.00521165, ...,  0.02064823,\n",
       "         0.0181146 , -0.01968191],\n",
       "       [ 0.01109403, -0.00229463, -0.00152257, ...,  0.01815056,\n",
       "         0.00353232,  0.01820714],\n",
       "       [ 0.00490736, -0.01818863, -0.02114353, ...,  0.0064233 ,\n",
       "        -0.00425065,  0.00535769]], dtype=float32)"
      ]
     },
     "execution_count": 34,
     "metadata": {},
     "output_type": "execute_result"
    }
   ],
   "source": [
    "session.run(tf.global_variables_initializer())\n",
    "session.run(embedding_vocab)"
   ]
  },
  {
   "cell_type": "markdown",
   "metadata": {},
   "source": [
    "<b>embedding_lookup()</b> finds the embedded values for our batch of 30x20 words. It  goes to each row of <code>input_data</code>, and for each word in the row/sentence, finds the correspond vector in <code>embedding_dic<code>. <br>\n",
    "It creates a [30x20x200] tensor, so, the first element of <b>inputs</b> (the first sentence), is a matrix of 20x200, which each row of it, is vector representing a word in the sentence."
   ]
  },
  {
   "cell_type": "code",
   "execution_count": 36,
   "metadata": {},
   "outputs": [
    {
     "data": {
      "text/plain": [
       "<tf.Tensor 'embedding_lookup/Identity:0' shape=(60, 20, 200) dtype=float32>"
      ]
     },
     "execution_count": 36,
     "metadata": {},
     "output_type": "execute_result"
    }
   ],
   "source": [
    "# Define where to fet the data for our embeddings from\n",
    "inputs = tf.nn.embedding_lookup(embedding_vocab, _input_data) # shape=(30, 20, 200)\n",
    "inputs"
   ]
  },
  {
   "cell_type": "code",
   "execution_count": 37,
   "metadata": {},
   "outputs": [
    {
     "data": {
      "text/plain": [
       "array([[ 0.00290871, -0.00614086, -0.00226232, ..., -0.01059073,\n",
       "         0.00209026,  0.01323107],\n",
       "       [-0.01342733,  0.00699067, -0.01258037, ..., -0.01415302,\n",
       "         0.01103502, -0.00585375],\n",
       "       [-0.00874198, -0.00263658, -0.00272501, ..., -0.00376649,\n",
       "        -0.02250848,  0.01971538],\n",
       "       ...,\n",
       "       [-0.01449415, -0.01755317, -0.01167267, ...,  0.00222768,\n",
       "         0.01488465,  0.02336542],\n",
       "       [ 0.00868002,  0.01584852, -0.02233248, ..., -0.00838832,\n",
       "         0.01348805, -0.01927497],\n",
       "       [-0.00895782, -0.01017392, -0.00914543, ..., -0.01376624,\n",
       "        -0.01554458, -0.01162334]], dtype=float32)"
      ]
     },
     "execution_count": 37,
     "metadata": {},
     "output_type": "execute_result"
    }
   ],
   "source": [
    "session.run(inputs[0], feed_dict)"
   ]
  },
  {
   "cell_type": "markdown",
   "metadata": {},
   "source": [
    "<h3>Constructing Recurrent Neural Networks</h3><br>\n",
    "<b>tf.nn.dynamic_rnn()</b> creates a recurrent neural network using <b>stacked_lstm</b>. \n",
    "\n",
    "The input should be a Tensor of shape: [batch_size, max_time, embedding_vector_size], in our case it would be (30, 20, 200)\n",
    "\n",
    "This method, returns a pair (outputs, new_state) where:\n",
    "<ul>\n",
    "    <li><b>outputs</b>: is a length T list of outputs (one for each input), or a nested tuple of such elements.</li>\n",
    "    <li><b>new_state</b>: is the final state.</li>\n",
    "</ul>"
   ]
  },
  {
   "cell_type": "code",
   "execution_count": 39,
   "metadata": {},
   "outputs": [],
   "source": [
    "outputs, new_state =  tf.nn.dynamic_rnn(stacked_lstm, inputs, initial_state=_initial_state)"
   ]
  },
  {
   "cell_type": "markdown",
   "metadata": {},
   "source": [
    "so, lets look at the outputs. The output of the stackedLSTM comes from 200 hidden_layer, and in each time step(=20), one of them get activated. we use the linear activation to map the 200 hidden layer to a [?x10 matrix]"
   ]
  },
  {
   "cell_type": "code",
   "execution_count": 40,
   "metadata": {},
   "outputs": [
    {
     "data": {
      "text/plain": [
       "<tf.Tensor 'rnn/transpose_1:0' shape=(60, 20, 128) dtype=float32>"
      ]
     },
     "execution_count": 40,
     "metadata": {},
     "output_type": "execute_result"
    }
   ],
   "source": [
    "outputs"
   ]
  },
  {
   "cell_type": "code",
   "execution_count": 41,
   "metadata": {},
   "outputs": [
    {
     "data": {
      "text/plain": [
       "array([[-3.48472851e-04, -1.11707413e-05,  8.86589987e-05, ...,\n",
       "         4.91181097e-04, -2.29002384e-04,  1.54449415e-04],\n",
       "       [-8.37442985e-06, -3.77883465e-04,  2.73518272e-05, ...,\n",
       "         3.71042057e-04,  1.04867824e-04, -1.91066269e-04],\n",
       "       [ 2.03778807e-04, -8.61169421e-04,  9.56342992e-05, ...,\n",
       "        -7.91884231e-05, -3.66033695e-04, -6.15871104e-04],\n",
       "       ...,\n",
       "       [ 4.35100781e-04,  5.24855510e-04, -2.49022734e-04, ...,\n",
       "        -1.41317169e-05,  1.67926401e-03,  4.14715614e-04],\n",
       "       [-2.57005904e-05,  5.74130274e-04, -2.38093708e-05, ...,\n",
       "        -1.09785877e-03,  1.12847227e-03,  6.50062109e-04],\n",
       "       [-6.10388699e-04,  4.79537775e-05,  7.54824714e-06, ...,\n",
       "        -1.40946463e-03,  7.65143428e-04,  4.54330759e-04]], dtype=float32)"
      ]
     },
     "execution_count": 41,
     "metadata": {},
     "output_type": "execute_result"
    }
   ],
   "source": [
    "session.run(tf.global_variables_initializer())\n",
    "session.run(outputs[0], feed_dict)"
   ]
  },
  {
   "cell_type": "markdown",
   "metadata": {},
   "source": [
    "we need to flatten the outputs to be able to connect it softmax layer. Lets reshape the output tensor from  [30 x 20 x 200] to [600 x 200].\n",
    "\n",
    "<b>Notice:</b> Imagine our output is 3-d tensor as following (of course each <code>sen_x_word_y</code> is a an embedded vector by itself): \n",
    "<ul>\n",
    "    <li>sentence 1: [[sen1word1], [sen1word2], [sen1word3], ..., [sen1word20]]</li> \n",
    "    <li>sentence 2: [[sen2word1], [sen2word2], [sen2word3], ..., [sen2word20]]</li>   \n",
    "    <li>sentence 3: [[sen3word1], [sen3word2], [sen3word3], ..., [sen3word20]]</li>  \n",
    "    <li>...  </li>\n",
    "    <li>sentence 30: [[sen30word1], [sen30word2], [sen30word3], ..., [sen30word20]]</li>   \n",
    "</ul>\n",
    "Now, the flatten would convert this 3-dim tensor to:\n",
    "\n",
    "[ [sen1word1], [sen1word2], [sen1word3], ..., [sen1word20],[sen2word1], [sen2word2], [sen2word3], ..., [sen2word20], ..., [sen30word20] ]\n"
   ]
  },
  {
   "cell_type": "code",
   "execution_count": 42,
   "metadata": {},
   "outputs": [
    {
     "data": {
      "text/plain": [
       "<tf.Tensor 'Reshape:0' shape=(1200, 128) dtype=float32>"
      ]
     },
     "execution_count": 42,
     "metadata": {},
     "output_type": "execute_result"
    }
   ],
   "source": [
    "output = tf.reshape(outputs, [-1, hidden_size_l2])\n",
    "output"
   ]
  },
  {
   "cell_type": "markdown",
   "metadata": {},
   "source": [
    "<h3>logistic unit</h3><br>\n",
    "Now, we create a logistic unit to return the probability of the output word in our vocabulary with 1000 words. \n",
    "\n",
    "$$Softmax = [600 \\times 200] * [200 \\times 1000] + [1 \\times 1000] \\Longrightarrow [600 \\times 1000]$$"
   ]
  },
  {
   "cell_type": "code",
   "execution_count": 43,
   "metadata": {},
   "outputs": [],
   "source": [
    "softmax_w = tf.get_variable(\"softmax_w\", [hidden_size_l2, vocab_size]) #[200x1000]\n",
    "softmax_b = tf.get_variable(\"softmax_b\", [vocab_size]) #[1x1000]\n",
    "logits = tf.matmul(output, softmax_w) + softmax_b\n",
    "prob = tf.nn.softmax(logits)"
   ]
  },
  {
   "cell_type": "markdown",
   "metadata": {},
   "source": [
    "Lets look at the probability of observing words for t=0 to t=20:"
   ]
  },
  {
   "cell_type": "code",
   "execution_count": 44,
   "metadata": {},
   "outputs": [
    {
     "name": "stdout",
     "output_type": "stream",
     "text": [
      "shape of the output:  (1200, 10000)\n",
      "The probability of observing words in t=0 to t=20 [[9.91853158e-05 1.00792160e-04 9.91891866e-05 ... 1.00948877e-04\n",
      "  1.00918056e-04 1.00657940e-04]\n",
      " [9.91824054e-05 1.00784695e-04 9.91818306e-05 ... 1.00948353e-04\n",
      "  1.00915226e-04 1.00658304e-04]\n",
      " [9.91906345e-05 1.00780206e-04 9.91859342e-05 ... 1.00944933e-04\n",
      "  1.00905323e-04 1.00662503e-04]\n",
      " ...\n",
      " [9.91822380e-05 1.00783313e-04 9.91975030e-05 ... 1.00940895e-04\n",
      "  1.00913319e-04 1.00665500e-04]\n",
      " [9.91855995e-05 1.00777441e-04 9.92015703e-05 ... 1.00942794e-04\n",
      "  1.00908161e-04 1.00668469e-04]\n",
      " [9.91942070e-05 1.00784542e-04 9.92059868e-05 ... 1.00945465e-04\n",
      "  1.00899837e-04 1.00671889e-04]]\n"
     ]
    }
   ],
   "source": [
    "session.run(tf.global_variables_initializer())\n",
    "output_words_prob = session.run(prob, feed_dict)\n",
    "print(\"shape of the output: \", output_words_prob.shape)\n",
    "print(\"The probability of observing words in t=0 to t=20\", output_words_prob[0:20])"
   ]
  },
  {
   "cell_type": "markdown",
   "metadata": {},
   "source": [
    "<h3>Prediction</h3><br>\n",
    "What is the word correspond to the probability output? Lets use the maximum probability:"
   ]
  },
  {
   "cell_type": "code",
   "execution_count": 45,
   "metadata": {},
   "outputs": [
    {
     "data": {
      "text/plain": [
       "array([ 114, 7917, 4496, 7917, 3150,  164, 8359, 8359, 8891, 6361, 6361,\n",
       "       6361, 8891, 8891, 8891, 5321, 8891, 5303, 5303, 8154], dtype=int64)"
      ]
     },
     "execution_count": 45,
     "metadata": {},
     "output_type": "execute_result"
    }
   ],
   "source": [
    "np.argmax(output_words_prob[0:20], axis=1)"
   ]
  },
  {
   "cell_type": "markdown",
   "metadata": {},
   "source": [
    "So, what is the ground truth for the first word of first sentence?"
   ]
  },
  {
   "cell_type": "code",
   "execution_count": 46,
   "metadata": {},
   "outputs": [
    {
     "data": {
      "text/plain": [
       "array([9971, 9972, 9974, 9975, 9976, 9980, 9981, 9982, 9983, 9984, 9986,\n",
       "       9987, 9988, 9989, 9991, 9992, 9993, 9994, 9995, 9996])"
      ]
     },
     "execution_count": 46,
     "metadata": {},
     "output_type": "execute_result"
    }
   ],
   "source": [
    "y[0]"
   ]
  },
  {
   "cell_type": "markdown",
   "metadata": {},
   "source": [
    "Also, you can get it from target tensor, if you want to find the embedding vector:"
   ]
  },
  {
   "cell_type": "code",
   "execution_count": 47,
   "metadata": {},
   "outputs": [
    {
     "data": {
      "text/plain": [
       "array([9971, 9972, 9974, 9975, 9976, 9980, 9981, 9982, 9983, 9984, 9986,\n",
       "       9987, 9988, 9989, 9991, 9992, 9993, 9994, 9995, 9996])"
      ]
     },
     "execution_count": 47,
     "metadata": {},
     "output_type": "execute_result"
    }
   ],
   "source": [
    "targ = session.run(_targets, feed_dict)\n",
    "targ[0]"
   ]
  },
  {
   "cell_type": "markdown",
   "metadata": {},
   "source": [
    "How similar the predicted words are to the target words?\n",
    "\n",
    "<h4>Objective function</h4>\n",
    "\n",
    "Now we have to define our objective function, to calculate the similarity of predicted values to ground truth, and then, penalize the model with the error. Our objective is to minimize loss function, that is, to minimize the average negative log probability of the target words:\n",
    "\n",
    "$$\\text{loss} = -\\frac{1}{N}\\sum_{i=1}^{N} \\ln p_{\\text{target}_i}$$\n",
    "\n",
    "This function is already implemented and available in TensorFlow through <b>sequence_loss_by_example</b>. It calculates the weighted cross-entropy loss for <b>logits</b> and the <b>target</b> sequence.  \n",
    "\n",
    "The arguments of this function are:  \n",
    "<ul>\n",
    "    <li>logits: List of 2D Tensors of shape [batch_size x num_decoder_symbols].</li>  \n",
    "    <li>targets: List of 1D batch-sized int32 Tensors of the same length as logits.</li>   \n",
    "    <li>weights: List of 1D batch-sized float-Tensors of the same length as logits.</li> \n",
    "</ul>"
   ]
  },
  {
   "cell_type": "code",
   "execution_count": 49,
   "metadata": {},
   "outputs": [],
   "source": [
    "loss = tf.contrib.legacy_seq2seq.sequence_loss_by_example([logits], [tf.reshape(_targets, [-1])], [tf.ones([batch_size * num_steps])])"
   ]
  },
  {
   "cell_type": "markdown",
   "metadata": {},
   "source": [
    "loss is a 1D batch-sized float Tensor [600x1]: The log-perplexity for each sequence. Lets look at the first 10 values of loss:"
   ]
  },
  {
   "cell_type": "code",
   "execution_count": 50,
   "metadata": {},
   "outputs": [
    {
     "data": {
      "text/plain": [
       "array([9.223179, 9.214315, 9.209412, 9.203179, 9.210015, 9.208727,\n",
       "       9.197809, 9.200393, 9.221749, 9.21442 ], dtype=float32)"
      ]
     },
     "execution_count": 50,
     "metadata": {},
     "output_type": "execute_result"
    }
   ],
   "source": [
    "session.run(loss, feed_dict)[:10]"
   ]
  },
  {
   "cell_type": "markdown",
   "metadata": {},
   "source": [
    "Now, we define loss as average of the losses:"
   ]
  },
  {
   "cell_type": "code",
   "execution_count": 51,
   "metadata": {},
   "outputs": [
    {
     "data": {
      "text/plain": [
       "184.25926"
      ]
     },
     "execution_count": 51,
     "metadata": {},
     "output_type": "execute_result"
    }
   ],
   "source": [
    "cost = tf.reduce_sum(loss)/batch_size\n",
    "session.run(tf.global_variables_initializer())\n",
    "session.run(cost, feed_dict)"
   ]
  },
  {
   "cell_type": "markdown",
   "metadata": {},
   "source": [
    "<h3>Training</h3>\n",
    "\n",
    "To do training for our network, we have to take the following steps:\n",
    "<ol>\n",
    "    <li>Define the optimizer.</li>\n",
    "    <li>Extract variables that are trainable.</li>\n",
    "    <li>Calculate the gradients based on the loss function.</li>\n",
    "    <li>Apply the optimizer to the variables/gradients tuple.</li>\n",
    "</ol>\n",
    "\n",
    "<h4>Define Optimizer</h4>\n",
    "\n",
    "<b>GradientDescentOptimizer</b> constructs a new gradient descent optimizer. Later, we use constructed <b>optimizer</b> to compute gradients for a loss and apply gradients to variables."
   ]
  },
  {
   "cell_type": "code",
   "execution_count": 53,
   "metadata": {},
   "outputs": [],
   "source": [
    "# Create a variable for the learning rate\n",
    "lr = tf.Variable(0.0, trainable=False)\n",
    "# Create the gradient descent optimizer with our learning rate\n",
    "optimizer = tf.train.GradientDescentOptimizer(lr)"
   ]
  },
  {
   "cell_type": "markdown",
   "metadata": {},
   "source": [
    "<h4>Trainable Variables</h4><br>\n",
    "Defining a variable, if you passed <i>trainable=True</i>, the variable constructor automatically adds new variables to the graph collection <b>GraphKeys.TRAINABLE_VARIABLES</b>. Now, using <i>tf.trainable_variables()</i> you can get all variables created with <b>trainable=True</b>."
   ]
  },
  {
   "cell_type": "code",
   "execution_count": 54,
   "metadata": {},
   "outputs": [
    {
     "data": {
      "text/plain": [
       "[<tf.Variable 'embedding_vocab:0' shape=(10000, 200) dtype=float32_ref>,\n",
       " <tf.Variable 'rnn/multi_rnn_cell/cell_0/basic_lstm_cell/kernel:0' shape=(456, 1024) dtype=float32_ref>,\n",
       " <tf.Variable 'rnn/multi_rnn_cell/cell_0/basic_lstm_cell/bias:0' shape=(1024,) dtype=float32_ref>,\n",
       " <tf.Variable 'rnn/multi_rnn_cell/cell_1/basic_lstm_cell/kernel:0' shape=(384, 512) dtype=float32_ref>,\n",
       " <tf.Variable 'rnn/multi_rnn_cell/cell_1/basic_lstm_cell/bias:0' shape=(512,) dtype=float32_ref>,\n",
       " <tf.Variable 'softmax_w:0' shape=(128, 10000) dtype=float32_ref>,\n",
       " <tf.Variable 'softmax_b:0' shape=(10000,) dtype=float32_ref>]"
      ]
     },
     "execution_count": 54,
     "metadata": {},
     "output_type": "execute_result"
    }
   ],
   "source": [
    "# Get all TensorFlow variables marked as \"trainable\" (i.e. all of them except lr, which we just created)\n",
    "tvars = tf.trainable_variables()\n",
    "tvars"
   ]
  },
  {
   "cell_type": "markdown",
   "metadata": {},
   "source": [
    "Note: we can find the name and scope of all variables:"
   ]
  },
  {
   "cell_type": "code",
   "execution_count": 56,
   "metadata": {},
   "outputs": [
    {
     "data": {
      "text/plain": [
       "['embedding_vocab:0',\n",
       " 'rnn/multi_rnn_cell/cell_0/basic_lstm_cell/kernel:0',\n",
       " 'rnn/multi_rnn_cell/cell_0/basic_lstm_cell/bias:0',\n",
       " 'rnn/multi_rnn_cell/cell_1/basic_lstm_cell/kernel:0',\n",
       " 'rnn/multi_rnn_cell/cell_1/basic_lstm_cell/bias:0',\n",
       " 'softmax_w:0',\n",
       " 'softmax_b:0']"
      ]
     },
     "execution_count": 56,
     "metadata": {},
     "output_type": "execute_result"
    }
   ],
   "source": [
    "[v.name for v in tvars]"
   ]
  },
  {
   "cell_type": "markdown",
   "metadata": {},
   "source": [
    "<h4>Calculate the gradients based on the loss function</h4><br>\n",
    "<b>Gradient</b><br>\n",
    ":The gradient of a function is the slope of its derivative (line), or in other words, the rate of change of a function. It's a vector (a direction to move) that points in the direction of greatest increase of the function, and calculated by the <b>derivative</b> operation.\n",
    "\n",
    "First lets recall the gradient function using an toy example:\n",
    "$$ z = \\left(2x^2 + 3xy\\right)$$"
   ]
  },
  {
   "cell_type": "code",
   "execution_count": 57,
   "metadata": {},
   "outputs": [
    {
     "data": {
      "text/plain": [
       "8.0"
      ]
     },
     "execution_count": 57,
     "metadata": {},
     "output_type": "execute_result"
    }
   ],
   "source": [
    "var_x = tf.placeholder(tf.float32)\n",
    "var_y = tf.placeholder(tf.float32)\n",
    "func_test = 2.0 * var_x * var_x + 3.0 * var_x * var_y\n",
    "session.run(tf.global_variables_initializer())\n",
    "session.run(func_test, {var_x:1.0, var_y:2.0})"
   ]
  },
  {
   "cell_type": "markdown",
   "metadata": {},
   "source": [
    "The <b>tf.gradients()</b> function allows you to compute the symbolic gradient of one tensor with respect to one or more other tensors—including variables. <b>tf.gradients(func, xs)</b> constructs symbolic partial derivatives of sum of <b>func</b> w.r.t. <i>x</i> in <b>xs</b>. \n",
    "\n",
    "Now, lets look at the derivitive w.r.t. <b>var_x</b>:\n",
    "$$ \\frac{\\partial \\:}{\\partial \\:x}\\left(2x^2 + 3xy\\right) = 4x + 3y $$\n"
   ]
  },
  {
   "cell_type": "code",
   "execution_count": 59,
   "metadata": {},
   "outputs": [
    {
     "data": {
      "text/plain": [
       "[10.0]"
      ]
     },
     "execution_count": 59,
     "metadata": {},
     "output_type": "execute_result"
    }
   ],
   "source": [
    "var_grad = tf.gradients(func_test, [var_x])\n",
    "session.run(var_grad, {var_x:1.0, var_y: 2.0})"
   ]
  },
  {
   "cell_type": "markdown",
   "metadata": {},
   "source": [
    "the derivative w.r.t. <b>var_y</b>:\n",
    "$$ \\frac{\\partial \\:}{\\partial \\:x}\\left(2x^2 + 3xy\\right) = 3x $$"
   ]
  },
  {
   "cell_type": "code",
   "execution_count": 60,
   "metadata": {},
   "outputs": [
    {
     "data": {
      "text/plain": [
       "[3.0]"
      ]
     },
     "execution_count": 60,
     "metadata": {},
     "output_type": "execute_result"
    }
   ],
   "source": [
    "var_grad = tf.gradients(func_test, [var_y])\n",
    "session.run(var_grad, {var_x:1.0, var_y: 2.0})"
   ]
  },
  {
   "cell_type": "markdown",
   "metadata": {},
   "source": [
    "Now, we can look at gradients w.r.t all variables:"
   ]
  },
  {
   "cell_type": "code",
   "execution_count": 61,
   "metadata": {},
   "outputs": [
    {
     "data": {
      "text/plain": [
       "[<tensorflow.python.framework.ops.IndexedSlices at 0x2815bc495f8>,\n",
       " <tf.Tensor 'gradients_3/rnn/while/rnn/multi_rnn_cell/cell_0/basic_lstm_cell/MatMul/Enter_grad/b_acc_3:0' shape=(456, 1024) dtype=float32>,\n",
       " <tf.Tensor 'gradients_3/rnn/while/rnn/multi_rnn_cell/cell_0/basic_lstm_cell/BiasAdd/Enter_grad/b_acc_3:0' shape=(1024,) dtype=float32>,\n",
       " <tf.Tensor 'gradients_3/rnn/while/rnn/multi_rnn_cell/cell_1/basic_lstm_cell/MatMul/Enter_grad/b_acc_3:0' shape=(384, 512) dtype=float32>,\n",
       " <tf.Tensor 'gradients_3/rnn/while/rnn/multi_rnn_cell/cell_1/basic_lstm_cell/BiasAdd/Enter_grad/b_acc_3:0' shape=(512,) dtype=float32>,\n",
       " <tf.Tensor 'gradients_3/MatMul_grad/MatMul_1:0' shape=(128, 10000) dtype=float32>,\n",
       " <tf.Tensor 'gradients_3/add_grad/Reshape_1:0' shape=(10000,) dtype=float32>]"
      ]
     },
     "execution_count": 61,
     "metadata": {},
     "output_type": "execute_result"
    }
   ],
   "source": [
    "tf.gradients(cost, tvars)"
   ]
  },
  {
   "cell_type": "code",
   "execution_count": 62,
   "metadata": {},
   "outputs": [],
   "source": [
    "grad_t_list = tf.gradients(cost, tvars)\n",
    "#sess.run(grad_t_list,feed_dict)"
   ]
  },
  {
   "cell_type": "markdown",
   "metadata": {},
   "source": [
    "now, we have a list of tensors, t-list. We can use it to find clipped tensors. <b>clip_by_global_norm</b> clips values of multiple tensors by the ratio of the sum of their norms.\n",
    "\n",
    "<b>clip_by_global_norm</b> get <i>t-list</i> as input and returns 2 things:\n",
    "<ul>\n",
    "    <li>a list of clipped tensors, so called <i>list_clipped</i></li> \n",
    "    <li>the global norm (global_norm) of all tensors in t_list</li> \n",
    "</ul>"
   ]
  },
  {
   "cell_type": "code",
   "execution_count": 63,
   "metadata": {},
   "outputs": [
    {
     "data": {
      "text/plain": [
       "[<tensorflow.python.framework.ops.IndexedSlices at 0x2815bc63ac8>,\n",
       " <tf.Tensor 'clip_by_global_norm/clip_by_global_norm/_1:0' shape=(456, 1024) dtype=float32>,\n",
       " <tf.Tensor 'clip_by_global_norm/clip_by_global_norm/_2:0' shape=(1024,) dtype=float32>,\n",
       " <tf.Tensor 'clip_by_global_norm/clip_by_global_norm/_3:0' shape=(384, 512) dtype=float32>,\n",
       " <tf.Tensor 'clip_by_global_norm/clip_by_global_norm/_4:0' shape=(512,) dtype=float32>,\n",
       " <tf.Tensor 'clip_by_global_norm/clip_by_global_norm/_5:0' shape=(128, 10000) dtype=float32>,\n",
       " <tf.Tensor 'clip_by_global_norm/clip_by_global_norm/_6:0' shape=(10000,) dtype=float32>]"
      ]
     },
     "execution_count": 63,
     "metadata": {},
     "output_type": "execute_result"
    }
   ],
   "source": [
    "# Define the gradient clipping threshold\n",
    "grads, _ = tf.clip_by_global_norm(grad_t_list, max_grad_norm)\n",
    "grads"
   ]
  },
  {
   "cell_type": "code",
   "execution_count": 64,
   "metadata": {
    "scrolled": false
   },
   "outputs": [
    {
     "data": {
      "text/plain": [
       "[IndexedSlicesValue(values=array([[-4.9807267e-07,  1.0957059e-06, -5.5692658e-07, ...,\n",
       "         -2.0271656e-05, -4.4236417e-06,  1.0217921e-05],\n",
       "        [ 5.1118336e-06, -7.1445629e-06,  9.6152044e-06, ...,\n",
       "         -1.1503452e-05,  5.3847493e-06,  1.4529380e-05],\n",
       "        [ 6.4802651e-07, -5.7049838e-06,  7.3826986e-06, ...,\n",
       "         -7.3683400e-06,  6.0279353e-06,  1.1027473e-05],\n",
       "        ...,\n",
       "        [ 8.4331823e-06,  1.4638857e-05, -2.2832990e-06, ...,\n",
       "         -2.3542802e-06, -1.7516984e-05, -4.7259746e-06],\n",
       "        [ 5.1680236e-06,  1.1399164e-05, -3.3370752e-06, ...,\n",
       "         -1.5990529e-06, -9.9453782e-06, -3.7536813e-06],\n",
       "        [ 1.5895761e-06,  7.4547593e-06, -9.0855940e-07, ...,\n",
       "         -2.2542777e-08, -6.4067776e-06, -3.0227677e-06]], dtype=float32), indices=array([9970, 9971, 9972, ..., 2043,   23,    1]), dense_shape=array([10000,   200])),\n",
       " array([[ 6.73358347e-09, -1.64865188e-08,  2.61516107e-08, ...,\n",
       "         -3.15452309e-09,  1.82094499e-08, -6.98995706e-09],\n",
       "        [ 4.18331041e-08, -1.93823926e-08,  4.99212938e-09, ...,\n",
       "         -3.38504602e-09,  1.47327803e-08,  4.59081440e-10],\n",
       "        [-3.37886661e-08, -3.01416350e-08, -4.10532941e-08, ...,\n",
       "         -3.44542634e-08,  1.42671226e-08, -9.40236244e-09],\n",
       "        ...,\n",
       "        [ 2.20041119e-09, -5.06704567e-10,  3.34696515e-09, ...,\n",
       "          3.10048098e-09, -9.29543109e-11, -1.28776401e-09],\n",
       "        [-3.28730110e-09,  1.90893923e-09,  5.18957810e-09, ...,\n",
       "         -2.11578910e-09,  4.40479475e-09,  8.08542344e-10],\n",
       "        [-1.13051846e-10, -3.49478890e-10, -3.36158479e-09, ...,\n",
       "         -5.85800697e-09, -2.35897346e-09, -4.31887148e-09]], dtype=float32),\n",
       " array([-1.4321125e-06,  2.5511465e-06,  2.2474192e-06, ...,\n",
       "        -2.3684436e-07, -8.5621218e-07,  9.3144996e-07], dtype=float32),\n",
       " array([[-5.8080618e-10, -2.1074729e-09,  9.7444586e-10, ...,\n",
       "          1.6584019e-09,  8.0783158e-09,  5.4659011e-09],\n",
       "        [-8.1173335e-09,  5.4034484e-09,  1.4368360e-09, ...,\n",
       "         -7.5737789e-09, -1.8543649e-09,  3.8438741e-09],\n",
       "        [ 3.9536938e-09, -2.7063796e-09,  1.3559545e-09, ...,\n",
       "          7.9770928e-09,  3.1901211e-09, -9.4468691e-09],\n",
       "        ...,\n",
       "        [-1.3171420e-09,  1.2182177e-09, -2.4898561e-10, ...,\n",
       "         -3.1198244e-09, -1.4690489e-09, -5.8512378e-10],\n",
       "        [ 5.9840444e-10, -1.2692222e-10, -1.5019863e-10, ...,\n",
       "          7.1447426e-10, -6.0930105e-10, -9.9887454e-10],\n",
       "        [ 1.6302384e-09,  2.8526875e-10,  2.5404828e-10, ...,\n",
       "         -1.3788030e-10, -3.0241216e-09, -6.0971477e-09]], dtype=float32),\n",
       " array([ 5.00893975e-07,  2.66012557e-06,  2.69696079e-06,  2.79753635e-06,\n",
       "         4.82773248e-06,  5.94174799e-06, -1.74177387e-06,  2.06769209e-06,\n",
       "         3.37774622e-06, -2.89373861e-06, -1.20117738e-06, -1.57812281e-06,\n",
       "         7.44551471e-06,  3.26464033e-06, -5.06095239e-06, -2.45943170e-06,\n",
       "         4.40189342e-06,  7.23157086e-07,  4.59833245e-06, -3.74732781e-06,\n",
       "         2.10500093e-06,  5.01266459e-06, -4.29051852e-08,  7.02581701e-07,\n",
       "         6.14768624e-07,  1.85802520e-07,  2.01631465e-07, -5.35652907e-06,\n",
       "        -5.02473722e-06, -1.00749799e-06,  3.89347576e-07,  3.48553954e-07,\n",
       "         8.17039836e-06,  5.00746683e-06,  1.89831553e-06,  6.54398355e-06,\n",
       "         8.62686875e-07, -1.27516614e-07, -1.31083448e-06,  2.27639566e-06,\n",
       "         3.71859369e-06,  1.75018010e-06, -2.08633514e-06, -1.90913465e-06,\n",
       "        -5.28395162e-07, -9.05269917e-06, -4.52258018e-06, -2.36267329e-06,\n",
       "        -1.31836771e-06, -3.80606366e-06,  3.43258250e-07,  2.04227422e-06,\n",
       "        -2.70822625e-06,  4.53977100e-06, -1.28283148e-06,  2.11262682e-06,\n",
       "         7.55474866e-06, -1.20890411e-06, -4.53955454e-06, -6.83047665e-06,\n",
       "        -3.63149638e-06, -4.65902122e-06,  2.01933153e-06, -1.18649291e-06,\n",
       "        -3.55441045e-07, -2.15173122e-06, -3.75637819e-06, -1.52012024e-06,\n",
       "         1.34840889e-07, -2.08170718e-06,  5.92858669e-07, -1.25855547e-06,\n",
       "        -8.37672815e-07, -5.59592445e-06,  2.30487876e-06,  7.17041985e-07,\n",
       "        -1.83755913e-06,  2.69735369e-06,  4.84007023e-06, -2.08383472e-06,\n",
       "         6.17429691e-07,  4.81437337e-06,  1.48731885e-06,  1.53272467e-07,\n",
       "        -2.61260766e-06,  1.56127817e-06, -9.97181087e-06,  6.89033914e-06,\n",
       "         5.34839910e-06,  2.61362231e-07, -8.75189073e-07, -1.22835831e-06,\n",
       "         6.47380421e-06,  6.97309019e-07, -2.88336969e-06, -4.89057174e-06,\n",
       "         6.37210405e-07, -5.50171364e-07, -2.47171374e-06,  2.55026544e-06,\n",
       "         2.98470241e-06, -1.61803780e-06,  9.07157573e-06,  3.36488711e-07,\n",
       "         3.46102979e-06, -4.28094779e-07,  2.40323379e-06, -6.78979768e-06,\n",
       "        -1.86577461e-06,  2.17933973e-07, -1.82797081e-07,  2.88557817e-06,\n",
       "         1.00733359e-05, -1.14184218e-06, -2.04861544e-06, -2.27709194e-07,\n",
       "        -6.22148991e-06, -5.37250526e-06,  5.45245598e-07,  2.27802593e-06,\n",
       "         5.97383587e-06, -2.89896138e-06,  2.78772882e-06, -1.36817710e-06,\n",
       "         1.25359554e-06, -7.06176877e-07, -2.08022243e-06,  1.09977896e-06,\n",
       "         1.24851437e-02, -8.46580137e-03, -1.72339566e-02, -1.99148571e-03,\n",
       "         1.25362072e-02, -1.09912138e-02, -1.82354328e-04,  6.76421355e-03,\n",
       "        -1.19797634e-02,  1.23630119e-02, -3.15566664e-03, -7.73560489e-04,\n",
       "        -2.00659093e-02,  9.77874734e-03,  7.49413576e-03, -1.31187886e-02,\n",
       "        -3.55982408e-02,  3.97516182e-03,  4.05888353e-03,  3.78235094e-02,\n",
       "         4.47964668e-03,  1.00151785e-02, -2.48571672e-02, -1.91977853e-03,\n",
       "         4.97793593e-03,  1.25145568e-02,  3.49306762e-02, -1.70107596e-02,\n",
       "         3.35487514e-03, -5.12909796e-03,  1.10232681e-02, -1.18098659e-02,\n",
       "        -2.81819720e-02,  9.82225314e-03,  7.79959979e-03, -2.74453294e-02,\n",
       "         1.17985476e-02, -6.08436903e-03, -1.56851280e-02,  1.93385202e-02,\n",
       "         3.42787383e-03,  2.61439616e-03,  2.14321837e-02, -7.68109178e-03,\n",
       "         1.56810991e-02, -3.29179950e-02,  1.10232073e-03,  2.05458701e-02,\n",
       "        -1.83988165e-03,  7.61788432e-03,  1.22397172e-03,  1.24490878e-03,\n",
       "        -1.51520455e-03, -2.75164656e-03,  7.47255189e-03, -7.21634016e-04,\n",
       "         5.31524606e-03, -4.16337838e-03,  8.48747138e-03,  3.12533267e-02,\n",
       "         1.14189181e-02,  3.12757827e-02,  1.15129529e-02,  8.43048736e-04,\n",
       "         2.77271271e-02,  2.17589214e-02,  1.04117049e-02,  4.91022598e-03,\n",
       "         1.69521645e-02, -2.39147665e-03,  1.68572098e-03,  1.65418331e-02,\n",
       "        -4.20540711e-03,  1.41896317e-02, -5.63372159e-03,  1.08278906e-02,\n",
       "        -1.50881773e-02,  4.65870742e-03,  2.14639287e-02, -8.36792588e-03,\n",
       "        -4.79832699e-04,  9.49267764e-03, -5.48020331e-03,  6.66518183e-03,\n",
       "         2.92736688e-03, -1.81822088e-02, -2.13092603e-02, -1.95506569e-02,\n",
       "        -2.52864994e-02,  2.28468068e-02, -1.53029826e-03,  1.51721798e-02,\n",
       "        -1.10900458e-02,  1.36991395e-02,  3.25848302e-03,  1.01246182e-02,\n",
       "        -7.81580433e-03,  8.21269467e-04,  1.95329823e-02, -1.63959619e-02,\n",
       "         1.75833926e-02, -3.54298530e-03, -1.75357535e-02, -9.48677305e-03,\n",
       "        -9.32324026e-03, -1.11635709e-02, -1.08168181e-03, -3.81309586e-03,\n",
       "        -8.85465275e-03, -1.20278168e-02,  3.84179130e-03,  2.85630319e-02,\n",
       "         1.87820499e-03, -4.16746270e-03,  3.36408440e-04, -7.02946540e-03,\n",
       "        -1.54215535e-02,  1.03901504e-02, -1.86214708e-02,  9.20838118e-03,\n",
       "        -1.66634917e-02,  1.32920844e-02, -2.00665276e-03, -1.26228398e-02,\n",
       "        -2.30228296e-03, -4.40605497e-03, -5.18926838e-03, -2.28657257e-02,\n",
       "         5.94343021e-07,  1.51942788e-06,  1.89674654e-06,  1.61016112e-06,\n",
       "         2.24976179e-06,  4.20144079e-06, -2.23489678e-07,  2.07490689e-06,\n",
       "         1.05851484e-06, -2.14552688e-06, -2.38981715e-06,  4.08551557e-08,\n",
       "         3.67685880e-06,  9.03186162e-07, -3.98565044e-06,  4.55701525e-07,\n",
       "         5.96784321e-06,  1.75573120e-06,  1.40128145e-06, -3.19644096e-06,\n",
       "         1.69322584e-06,  4.10858866e-06, -3.32480408e-06, -5.33387208e-07,\n",
       "         1.61749585e-06, -1.08451195e-06,  3.21661986e-08, -3.54006647e-06,\n",
       "        -2.81368966e-06, -1.60575291e-06,  1.07957010e-06, -3.68551127e-07,\n",
       "         5.12042789e-06,  1.01147248e-06, -4.44206449e-08,  5.72080398e-06,\n",
       "         2.02137289e-06,  1.93807253e-07, -2.21283315e-07,  5.58499835e-07,\n",
       "         2.80325685e-06,  1.85291742e-06, -6.69773215e-07,  1.03949276e-07,\n",
       "        -1.97658005e-06, -5.95018992e-06, -3.66054655e-06, -1.09053155e-06,\n",
       "        -3.92662230e-07, -2.82780979e-06, -1.74627405e-06,  1.55173802e-06,\n",
       "        -3.99086457e-06,  2.63716652e-06, -3.31631190e-06, -1.08451445e-06,\n",
       "         7.29502062e-06, -2.32802904e-07,  4.90922389e-07, -5.85575935e-06,\n",
       "        -3.42433964e-06, -4.39280757e-06,  8.48002742e-07, -1.13519434e-06,\n",
       "        -2.06601226e-06,  4.83579186e-07, -1.11572695e-06,  7.36982543e-07,\n",
       "        -1.16420449e-06, -1.05545337e-06,  5.01209570e-07, -4.34733408e-07,\n",
       "        -6.17482215e-07, -4.79523442e-06,  4.95145457e-07, -7.06423521e-07,\n",
       "        -2.56594944e-06,  1.75061962e-06,  5.54079634e-06,  1.49046883e-07,\n",
       "        -5.88305547e-08,  1.98952080e-06,  2.47862090e-07, -1.09155451e-06,\n",
       "        -1.31578793e-06,  3.59672958e-06, -7.82062943e-06,  6.09480048e-06,\n",
       "         4.83906342e-06,  9.50703452e-07, -6.63189780e-07,  4.86297381e-07,\n",
       "         4.25841790e-06, -5.80910296e-07, -2.66430561e-06, -3.89440720e-06,\n",
       "         2.92246591e-06, -1.05721892e-06, -2.19957587e-06,  1.02403715e-06,\n",
       "         3.34594847e-06, -6.74496903e-07,  7.19882337e-06, -1.24284134e-06,\n",
       "         5.59991008e-07, -6.14226110e-08,  1.30690091e-06, -4.02998148e-06,\n",
       "        -2.20061361e-06, -1.73504714e-06,  2.23405763e-07,  4.62457228e-06,\n",
       "         5.01757313e-06, -1.12199632e-06, -3.49901427e-07, -5.61588138e-07,\n",
       "        -2.71271779e-06, -3.14943804e-06,  3.84405837e-07,  3.83121005e-06,\n",
       "         3.44435966e-06, -1.41343628e-06,  2.51243887e-06,  1.90697790e-06,\n",
       "         3.51765920e-07, -1.58513762e-06, -4.34560775e-07,  3.43099828e-06,\n",
       "         4.98048735e-07,  2.65838071e-06,  2.69683915e-06,  2.80084350e-06,\n",
       "         4.83310805e-06,  5.94369249e-06, -1.74725301e-06,  2.06649793e-06,\n",
       "         3.38290715e-06, -2.89538707e-06, -1.20377808e-06, -1.57884892e-06,\n",
       "         7.44914314e-06,  3.26421673e-06, -5.05414255e-06, -2.45722345e-06,\n",
       "         4.41185693e-06,  7.20546495e-07,  4.60006322e-06, -3.75678292e-06,\n",
       "         2.10756207e-06,  5.01813111e-06, -3.59793262e-08,  7.00185410e-07,\n",
       "         6.14982923e-07,  1.79507111e-07,  2.04594855e-07, -5.35668642e-06,\n",
       "        -5.02725015e-06, -1.00602961e-06,  3.86837314e-07,  3.44745189e-07,\n",
       "         8.16687498e-06,  5.00558008e-06,  1.90194964e-06,  6.54170299e-06,\n",
       "         8.60815362e-07, -1.28161616e-07, -1.31194975e-06,  2.28500971e-06,\n",
       "         3.71855162e-06,  1.75013099e-06, -2.08406050e-06, -1.91107529e-06,\n",
       "        -5.24237464e-07, -9.05843444e-06, -4.52252561e-06, -2.36054052e-06,\n",
       "        -1.32153195e-06, -3.80792198e-06,  3.43009106e-07,  2.04118510e-06,\n",
       "        -2.71160388e-06,  4.53630446e-06, -1.28414445e-06,  2.11237943e-06,\n",
       "         7.55412020e-06, -1.20409322e-06, -4.54082692e-06, -6.82731297e-06,\n",
       "        -3.62912783e-06, -4.65535140e-06,  2.01729358e-06, -1.18429989e-06,\n",
       "        -3.48755520e-07, -2.15321097e-06, -3.76191247e-06, -1.51410427e-06,\n",
       "         1.35279834e-07, -2.08026995e-06,  5.89831359e-07, -1.25945689e-06,\n",
       "        -8.34360662e-07, -5.58891134e-06,  2.30889077e-06,  7.15190822e-07,\n",
       "        -1.83917984e-06,  2.69731004e-06,  4.82616133e-06, -2.08327060e-06,\n",
       "         6.16292482e-07,  4.81132975e-06,  1.48944753e-06,  1.54691662e-07,\n",
       "        -2.61174932e-06,  1.56284102e-06, -9.96721428e-06,  6.89289573e-06,\n",
       "         5.34759101e-06,  2.62192515e-07, -8.76972081e-07, -1.22642632e-06,\n",
       "         6.47656088e-06,  6.96074835e-07, -2.88367301e-06, -4.89768399e-06,\n",
       "         6.37329208e-07, -5.48024275e-07, -2.47002481e-06,  2.55016357e-06,\n",
       "         2.98839927e-06, -1.62135439e-06,  9.07313279e-06,  3.36321762e-07,\n",
       "         3.45793046e-06, -4.24628553e-07,  2.40412828e-06, -6.78984861e-06,\n",
       "        -1.86439502e-06,  2.14030123e-07, -1.86661367e-07,  2.87699095e-06,\n",
       "         1.00731340e-05, -1.14169586e-06, -2.05140896e-06, -2.24371661e-07,\n",
       "        -6.22345442e-06, -5.37169262e-06,  5.45672322e-07,  2.27934538e-06,\n",
       "         5.97257258e-06, -2.89815921e-06,  2.78301400e-06, -1.37024210e-06,\n",
       "         1.25247607e-06, -7.09942128e-07, -2.07759513e-06,  1.09882706e-06],\n",
       "       dtype=float32),\n",
       " array([[ 1.1249825e-04,  1.3916299e-04,  1.5217437e-04, ...,\n",
       "         -2.7431093e-07, -2.6935024e-07, -2.7265202e-07],\n",
       "        [-5.5092052e-05, -7.0387803e-05, -6.0935214e-05, ...,\n",
       "          2.0336958e-07,  1.9966336e-07,  2.0212140e-07],\n",
       "        [-2.1007472e-05,  9.5218362e-05,  4.6943598e-05, ...,\n",
       "          9.0297220e-08,  8.8677531e-08,  8.9733327e-08],\n",
       "        ...,\n",
       "        [-1.1944968e-04, -2.2363832e-04, -2.3007872e-04, ...,\n",
       "          4.5555413e-07,  4.4728222e-07,  4.5273322e-07],\n",
       "        [-8.8174122e-05, -1.5529338e-05, -4.4778677e-05, ...,\n",
       "          6.8417528e-08,  6.7163448e-08,  6.7978789e-08],\n",
       "        [ 9.0205067e-06,  2.8806815e-05,  4.7945974e-05, ...,\n",
       "         -3.8197349e-08, -3.7499412e-08, -3.7953587e-08]], dtype=float32),\n",
       " array([-0.7813287 , -1.0980109 , -0.98133504, ...,  0.00202568,\n",
       "         0.0019891 ,  0.00201311], dtype=float32)]"
      ]
     },
     "execution_count": 64,
     "metadata": {},
     "output_type": "execute_result"
    }
   ],
   "source": [
    "session.run(grads, feed_dict)"
   ]
  },
  {
   "cell_type": "markdown",
   "metadata": {},
   "source": [
    "<h4>Apply the optimizer to the variables / gradients tuple.</h4>"
   ]
  },
  {
   "cell_type": "code",
   "execution_count": 65,
   "metadata": {},
   "outputs": [],
   "source": [
    "# Create the training TensorFlow Operation through our optimizer\n",
    "train_op = optimizer.apply_gradients(zip(grads, tvars))"
   ]
  },
  {
   "cell_type": "code",
   "execution_count": 66,
   "metadata": {},
   "outputs": [],
   "source": [
    "session.run(tf.global_variables_initializer())\n",
    "session.run(train_op, feed_dict)"
   ]
  },
  {
   "cell_type": "markdown",
   "metadata": {},
   "source": [
    "<a id=\"ltsm\"></a>\n",
    "<h2>LSTM</h2>\n",
    "\n",
    "We learned how the model is build step by step. Noe, let's then create a Class that represents our model. This class needs a few things:\n",
    "<ul>\n",
    "    <li>We have to create the model in accordance with our defined hyperparameters</li>\n",
    "    <li>We have to create the placeholders for our input data and expected outputs (the real data)</li>\n",
    "    <li>We have to create the LSTM cell structure and connect them with our RNN structure</li>\n",
    "    <li>We have to create the word embeddings and point them to the input data</li>\n",
    "    <li>We have to create the input structure for our RNN</li>\n",
    "    <li>We have to instantiate our RNN model and retrieve the variable in which we should expect our outputs to appear</li>\n",
    "    <li>We need to create a logistic structure to return the probability of our words</li>\n",
    "    <li>We need to create the loss and cost functions for our optimizer to work, and then create the optimizer</li>\n",
    "    <li>And finally, we need to create a training operation that can be run to actually train our model</li>\n",
    "</ul>"
   ]
  },
  {
   "cell_type": "code",
   "execution_count": 67,
   "metadata": {},
   "outputs": [
    {
     "data": {
      "text/plain": [
       "256"
      ]
     },
     "execution_count": 67,
     "metadata": {},
     "output_type": "execute_result"
    }
   ],
   "source": [
    "hidden_size_l1"
   ]
  },
  {
   "cell_type": "code",
   "execution_count": 84,
   "metadata": {},
   "outputs": [],
   "source": [
    "class PTBModel(object):\n",
    "    \n",
    "    def __init__(self, action_type):\n",
    "        ######################################\n",
    "        # Setting parameters for ease of use #\n",
    "        ######################################\n",
    "        self.batch_size = batch_size\n",
    "        self.num_steps = num_steps\n",
    "        self.hidden_size_l1 = hidden_size_l1\n",
    "        self.hidden_size_l2 = hidden_size_l2\n",
    "        self.vocab_size = vocab_size\n",
    "        self.embeding_vector_size = embeding_vector_size\n",
    "        \n",
    "        ###############################################################################\n",
    "        # Creating placeholders for our input data and expected outputs (target data) #\n",
    "        ###############################################################################\n",
    "        self._input_data = tf.placeholder(tf.int32, [batch_size, num_steps]) #[30x20]\n",
    "        self._targets = tf.placeholder(tf.int32, [batch_size, num_steps]) #[30x20]\n",
    "        \n",
    "        ##########################################################################\n",
    "        # Creating the LSTM cell structure and connect it with the RNN structure #\n",
    "        ##########################################################################\n",
    "        # Create the LSTM unit. \n",
    "        # This creates only the structure for the LSTM and has to be associated with a RNN unit still.\n",
    "        # The argument n_hidden(size=200) of BasicLSTMCell is size of hidden layer, that is, the number of hidden units of the LSTM (inside A).\n",
    "        # Size is the same as the size of our hidden layer, and no bias is added to the Forget Gate. \n",
    "        # LSTM cell processes one word at a time and computes probabilities of the possible continuations of the sentence\n",
    "        lstm_cell_l1 = tf.contrib.rnn.BasicLSTMCell(self.hidden_size_l1, forget_bias=0.0)\n",
    "        lstm_cell_l2 = tf.contrib.rnn.BasicLSTMCell(self.hidden_size_l2, forget_bias=0.0)\n",
    "        \n",
    "        # Unless you changed keep_prob, this won't actually execute -- this is a dropout wrapper for our LSTM unit\n",
    "        # This is an optimization of the LSTM output, but is not needed at all\n",
    "        if action_type == \"is_training\" and keep_prob < 1:\n",
    "            lstm_cell_l1 = tf.contrib.rnn.DropoutWrapper(lstm_cell_l1, output_keep_prob=keep_prob)\n",
    "            lstm_cell_l2 = tf.contrib.rnn.DropoutWrapper(lstm_cell_l2, output_keep_prob=keep_prob)\n",
    "        \n",
    "        # By taking in the LSTM cells as parameters, the MultiRNNCell function junctions the LSTM units to the RNN units.\n",
    "        # RNN cell composed sequentially of multiple simple cells.\n",
    "        stacked_lstm = tf.contrib.rnn.MultiRNNCell([lstm_cell_l1, lstm_cell_l2])\n",
    "        \n",
    "        # Define the initial state, i.e., the model state for the very first data point\n",
    "        # It initialize the state of the LSTM memory. The memory state of the network is initialized with a vector of zeros and gets updated after reading each word.\n",
    "        self._initial_state = stacked_lstm.zero_state(batch_size, tf.float32)\n",
    "        \n",
    "        ####################################################################\n",
    "        # Creating the word embeddings and pointing them to the input data #\n",
    "        ####################################################################\n",
    "        with tf.device(\"/cpu:0\"):\n",
    "            # Create the embeddings for our input data. Size is hidden size.\n",
    "            embedding = tf.get_variable(\"embedding\", [vocab_size, self.embeding_vector_size])\n",
    "            # Define where to get the data for our embedding from\n",
    "            inputs = tf.nn.embedding_lookup(embedding, self._input_data)\n",
    "            \n",
    "        # Unless you changed keep_prob, this won't actually execute -- this is a dropout addition for our inputs\n",
    "        # This is an optimization of the input processing and is not needed at all\n",
    "        if action_type == \"is_training\" and keep_prob < 1:\n",
    "            inputs = tf.nn.dropout(inputs, keep_prob)\n",
    "            \n",
    "        ############################################\n",
    "        # Creating the input structure for our RNN #\n",
    "        ############################################\n",
    "        # Input structure is 20x[30x200]\n",
    "        # Considering each word is represended by a 200 dimentional vector, and we have 30 batchs, we create 30 word-vectors of size [30x2000]\n",
    "        # inputs = [tf.squeeze(input_, [1]) for input_ in tf.split(1, num_steps, inputs)]\n",
    "        # The input structure is fed from the embeddings, which are filled in by the input data\n",
    "        # Feeding a batch of b sentences to a RNN:\n",
    "        # In step 1,  first word of each of the b sentences (in a batch) is input in parallel.  \n",
    "        # In step 2,  second word of each of the b sentences is input in parallel. \n",
    "        # The parallelism is only for efficiency.  \n",
    "        # Each sentence in a batch is handled in parallel, but the network sees one word of a sentence at a time and does the computations accordingly. \n",
    "        # All the computations involving the words of all sentences in a batch at a given time step are done in parallel. \n",
    "\n",
    "        ####################################################################################################\n",
    "        # Instantiating our RNN model and retrieving the structure for returning the outputs and the state #\n",
    "        ####################################################################################################\n",
    "        outputs, state = tf.nn.dynamic_rnn(stacked_lstm, inputs, initial_state=self._initial_state)\n",
    "        \n",
    "        #########################################################################\n",
    "        # Creating a logistic unit to return the probability of the output word #\n",
    "        #########################################################################\n",
    "        output = tf.reshape(outputs, [-1, self.hidden_size_l2])\n",
    "        softmax_w = tf.get_variable(\"softmax_w\", [self.hidden_size_l2, vocab_size]) #[200x1000]\n",
    "        softmax_b = tf.get_variable(\"softmax_b\", [vocab_size]) #[1x1000]\n",
    "        logits = tf.matmul(output, softmax_w) + softmax_b\n",
    "        logits = tf.reshape(logits, [self.batch_size, self.num_steps, vocab_size])\n",
    "        prob = tf.nn.softmax(logits)\n",
    "        out_words = tf.argmax(prob, axis=2)\n",
    "        self._output_words = out_words\n",
    "        \n",
    "        #########################################################################\n",
    "        # Defining the loss and cost functions for the model's learning to work #\n",
    "        #########################################################################\n",
    "        # Use the contrib sequence loss and average over the batches\n",
    "        loss = tf.contrib.seq2seq.sequence_loss(\n",
    "            logits,\n",
    "            self.targets,\n",
    "            tf.ones([batch_size, num_steps], dtype=tf.float32),\n",
    "            average_across_timesteps=False,\n",
    "            average_across_batch=True)\n",
    "        \n",
    "        self._cost = tf.reduce_sum(loss)\n",
    "        \n",
    "        # Store the final state\n",
    "        self._final_state = state\n",
    "        \n",
    "        # Everything after this point is relevant only for training\n",
    "        if action_type != \"is_training\":\n",
    "            return\n",
    "        \n",
    "        #################################################\n",
    "        # Creating the Training Operation for our Model #\n",
    "        #################################################\n",
    "        # Create a variable for the learning rate\n",
    "        self._lr = tf.Variable(0.0, trainable=False)\n",
    "        # Get all TensorFlow variable marked as \"trainable\" (i.e. all of them except _lr, which we just created)\n",
    "        tvars = tf.trainable_variables()\n",
    "        # Define the gradient clipping threshold\n",
    "        grads, _ = tf.clip_by_global_norm(tf.gradients(self._cost, tvars), max_grad_norm)\n",
    "        # Create the gradient descent optimizer with our learning rate\n",
    "        optimizer = tf.train.GradientDescentOptimizer(self.lr)\n",
    "        # Create the training TensorFlow Operation through our optimizer\n",
    "        self._train_op = optimizer.apply_gradients(zip(grads, tvars))\n",
    "        \n",
    "    \n",
    "    # Helper functions for our LSTM RNN class\n",
    "    \n",
    "    # Assign the learning rate for this model\n",
    "    def assign_lr(self, session, lr_value):\n",
    "        session.run(tf.assign(self.lr, lr_value))\n",
    "        \n",
    "    # Returns the input data for this model at a point in time\n",
    "    @property\n",
    "    def input_data(self):\n",
    "        return self._input_data\n",
    "    \n",
    "    # Returns the targets for this model at a point in time\n",
    "    @property\n",
    "    def targets(self):\n",
    "        return self._targets\n",
    "    \n",
    "    # Returns the initial state for this model\n",
    "    @property\n",
    "    def initial_state(self):\n",
    "        return self._initial_state\n",
    "    \n",
    "    # Returns the defined Cost\n",
    "    @property\n",
    "    def cost(self):\n",
    "        return self._cost\n",
    "    \n",
    "    # Returns the final state for this model\n",
    "    @property\n",
    "    def final_state(self):\n",
    "        return self._final_state\n",
    "    \n",
    "    # Returns the final output words for this model\n",
    "    @property\n",
    "    def final_output_words(self):\n",
    "        return self._output_words\n",
    "    \n",
    "    # Returns the current learning rate for this model\n",
    "    @property\n",
    "    def lr(self):\n",
    "        return self._lr\n",
    "    \n",
    "    # Returns the training operation defined for this model\n",
    "    @property\n",
    "    def train_op(self):\n",
    "        return self._train_op"
   ]
  },
  {
   "cell_type": "markdown",
   "metadata": {},
   "source": [
    "With that, the actual structure of our Recurrent Neural Network with Long Short-Term Memory is finished. What remains for us to do is to actually create the methods to run through time -- that is, the <code>run_epoch</code> method to be run at each epoch and a <code>main</code> script which ties all of this together.\n",
    "\n",
    "What our <code>run_epoch</code> method should do is take our input data and feed it to the relevant operations. This will return at the very least the current result for the cost function."
   ]
  },
  {
   "cell_type": "code",
   "execution_count": 85,
   "metadata": {},
   "outputs": [],
   "source": [
    "##########################################################################################################################\n",
    "# run_one_epoch takes as parameters the current session, the model instance, the data to be fed, and the operation to be run #\n",
    "##########################################################################################################################\n",
    "def run_one_epoch(session, m, data, eval_op, verbose=False):\n",
    "\n",
    "    #Define the epoch size based on the length of the data, batch size and the number of steps\n",
    "    epoch_size = ((len(data) // m.batch_size) - 1) // m.num_steps\n",
    "    start_time = time.time()\n",
    "    costs = 0.0\n",
    "    iters = 0\n",
    "\n",
    "    state = session.run(m.initial_state)\n",
    "    \n",
    "    #For each step and data point\n",
    "    for step, (x, y) in enumerate(reader.ptb_iterator(data, m.batch_size, m.num_steps)):\n",
    "        \n",
    "        #Evaluate and return cost, state by running cost, final_state and the function passed as parameter\n",
    "        cost, state, out_words, _ = session.run([m.cost, m.final_state, m.final_output_words, eval_op],\n",
    "                                     {m.input_data: x,\n",
    "                                      m.targets: y,\n",
    "                                      m.initial_state: state})\n",
    "\n",
    "        #Add returned cost to costs (which keeps track of the total costs for this epoch)\n",
    "        costs += cost\n",
    "        \n",
    "        #Add number of steps to iteration counter\n",
    "        iters += m.num_steps\n",
    "\n",
    "        if verbose and step % (epoch_size // 10) == 10:\n",
    "            print(\"Itr %d of %d, perplexity: %.3f speed: %.0f wps\" % (step , epoch_size, np.exp(costs / iters), iters * m.batch_size / (time.time() - start_time)))\n",
    "\n",
    "    # Returns the Perplexity rating for us to keep track of how the model is evolving\n",
    "    return np.exp(costs / iters)\n"
   ]
  },
  {
   "cell_type": "markdown",
   "metadata": {},
   "source": [
    "Now, we create the <code>main</code> method to tie everything together. The code here reads the data from the directory, using the <code>reader</code> helper module, and then trains and evaluates the model on both a testing and a validating subset of data."
   ]
  },
  {
   "cell_type": "code",
   "execution_count": 86,
   "metadata": {},
   "outputs": [],
   "source": [
    "# Reads the data and separates it into training data, validation data and testing data\n",
    "raw_data = reader.ptb_raw_data(data_dir)\n",
    "train_data, valid_data, test_data, _, _ = raw_data"
   ]
  },
  {
   "cell_type": "code",
   "execution_count": 90,
   "metadata": {
    "scrolled": false
   },
   "outputs": [
    {
     "name": "stdout",
     "output_type": "stream",
     "text": [
      "Epoch 1 : Learning rate: 1.000\n",
      "Itr 10 of 774, perplexity: 5317.387 speed: 5206 wps\n",
      "Itr 87 of 774, perplexity: 1312.570 speed: 5300 wps\n",
      "Itr 164 of 774, perplexity: 1000.861 speed: 5383 wps\n",
      "Itr 241 of 774, perplexity: 834.571 speed: 5401 wps\n",
      "Itr 318 of 774, perplexity: 735.167 speed: 5424 wps\n",
      "Itr 395 of 774, perplexity: 654.708 speed: 5436 wps\n",
      "Itr 472 of 774, perplexity: 592.487 speed: 5453 wps\n",
      "Itr 549 of 774, perplexity: 537.569 speed: 5465 wps\n",
      "Itr 626 of 774, perplexity: 493.267 speed: 5478 wps\n",
      "Itr 703 of 774, perplexity: 458.594 speed: 5488 wps\n",
      "Epoch 1 : Train Perplexity: 433.769\n",
      "Epoch 1 : Valid Perplexity: 264.716\n",
      "Epoch 2 : Learning rate: 1.000\n",
      "Itr 10 of 774, perplexity: 279.909 speed: 5374 wps\n",
      "Itr 87 of 774, perplexity: 239.056 speed: 5537 wps\n",
      "Itr 164 of 774, perplexity: 228.862 speed: 5555 wps\n",
      "Itr 241 of 774, perplexity: 219.765 speed: 5559 wps\n",
      "Itr 318 of 774, perplexity: 217.025 speed: 5566 wps\n",
      "Itr 395 of 774, perplexity: 211.281 speed: 5567 wps\n",
      "Itr 472 of 774, perplexity: 206.684 speed: 5568 wps\n",
      "Itr 549 of 774, perplexity: 200.091 speed: 5565 wps\n",
      "Itr 626 of 774, perplexity: 194.578 speed: 5563 wps\n",
      "Itr 703 of 774, perplexity: 190.466 speed: 5561 wps\n",
      "Epoch 2 : Train Perplexity: 187.711\n",
      "Epoch 2 : Valid Perplexity: 182.126\n",
      "Epoch 3 : Learning rate: 1.000\n",
      "Itr 10 of 774, perplexity: 189.744 speed: 5457 wps\n",
      "Itr 87 of 774, perplexity: 161.865 speed: 5562 wps\n",
      "Itr 164 of 774, perplexity: 157.812 speed: 5564 wps\n",
      "Itr 241 of 774, perplexity: 152.891 speed: 5564 wps\n",
      "Itr 318 of 774, perplexity: 152.893 speed: 5526 wps\n",
      "Itr 395 of 774, perplexity: 150.034 speed: 5456 wps\n",
      "Itr 472 of 774, perplexity: 148.472 speed: 5464 wps\n",
      "Itr 549 of 774, perplexity: 144.757 speed: 5405 wps\n",
      "Itr 626 of 774, perplexity: 141.953 speed: 5385 wps\n",
      "Itr 703 of 774, perplexity: 140.105 speed: 5393 wps\n",
      "Epoch 3 : Train Perplexity: 139.073\n",
      "Epoch 3 : Valid Perplexity: 156.788\n",
      "Epoch 4 : Learning rate: 1.000\n",
      "Itr 10 of 774, perplexity: 152.044 speed: 5332 wps\n",
      "Itr 87 of 774, perplexity: 129.452 speed: 5341 wps\n",
      "Itr 164 of 774, perplexity: 127.197 speed: 5352 wps\n",
      "Itr 241 of 774, perplexity: 123.768 speed: 5407 wps\n",
      "Itr 318 of 774, perplexity: 124.453 speed: 5433 wps\n",
      "Itr 395 of 774, perplexity: 122.483 speed: 5456 wps\n",
      "Itr 472 of 774, perplexity: 121.595 speed: 5467 wps\n",
      "Itr 549 of 774, perplexity: 118.815 speed: 5461 wps\n",
      "Itr 626 of 774, perplexity: 116.878 speed: 5437 wps\n",
      "Itr 703 of 774, perplexity: 115.701 speed: 5412 wps\n",
      "Epoch 4 : Train Perplexity: 115.177\n",
      "Epoch 4 : Valid Perplexity: 144.956\n",
      "Epoch 5 : Learning rate: 1.000\n",
      "Itr 10 of 774, perplexity: 129.350 speed: 5039 wps\n",
      "Itr 87 of 774, perplexity: 110.414 speed: 5431 wps\n",
      "Itr 164 of 774, perplexity: 108.857 speed: 5456 wps\n",
      "Itr 241 of 774, perplexity: 106.230 speed: 5337 wps\n",
      "Itr 318 of 774, perplexity: 107.043 speed: 5324 wps\n",
      "Itr 395 of 774, perplexity: 105.504 speed: 5356 wps\n",
      "Itr 472 of 774, perplexity: 104.980 speed: 5381 wps\n",
      "Itr 549 of 774, perplexity: 102.677 speed: 5385 wps\n",
      "Itr 626 of 774, perplexity: 101.140 speed: 5398 wps\n",
      "Itr 703 of 774, perplexity: 100.296 speed: 5414 wps\n",
      "Epoch 5 : Train Perplexity: 100.031\n",
      "Epoch 5 : Valid Perplexity: 138.926\n",
      "Epoch 6 : Learning rate: 0.500\n",
      "Itr 10 of 774, perplexity: 109.647 speed: 5456 wps\n",
      "Itr 87 of 774, perplexity: 94.048 speed: 5544 wps\n",
      "Itr 164 of 774, perplexity: 92.105 speed: 5544 wps\n",
      "Itr 241 of 774, perplexity: 89.277 speed: 5539 wps\n",
      "Itr 318 of 774, perplexity: 89.503 speed: 5521 wps\n",
      "Itr 395 of 774, perplexity: 87.659 speed: 5523 wps\n",
      "Itr 472 of 774, perplexity: 86.830 speed: 5522 wps\n",
      "Itr 549 of 774, perplexity: 84.467 speed: 5513 wps\n",
      "Itr 626 of 774, perplexity: 82.771 speed: 5513 wps\n",
      "Itr 703 of 774, perplexity: 81.706 speed: 5514 wps\n",
      "Epoch 6 : Train Perplexity: 81.168\n",
      "Epoch 6 : Valid Perplexity: 127.609\n",
      "Epoch 7 : Learning rate: 0.250\n",
      "Itr 10 of 774, perplexity: 95.644 speed: 5398 wps\n",
      "Itr 87 of 774, perplexity: 83.084 speed: 5492 wps\n",
      "Itr 164 of 774, perplexity: 81.571 speed: 5509 wps\n",
      "Itr 241 of 774, perplexity: 78.963 speed: 5506 wps\n",
      "Itr 318 of 774, perplexity: 79.196 speed: 5506 wps\n",
      "Itr 395 of 774, perplexity: 77.494 speed: 5502 wps\n",
      "Itr 472 of 774, perplexity: 76.675 speed: 5501 wps\n",
      "Itr 549 of 774, perplexity: 74.451 speed: 5501 wps\n",
      "Itr 626 of 774, perplexity: 72.827 speed: 5490 wps\n",
      "Itr 703 of 774, perplexity: 71.764 speed: 5486 wps\n",
      "Epoch 7 : Train Perplexity: 71.134\n",
      "Epoch 7 : Valid Perplexity: 125.410\n",
      "Epoch 8 : Learning rate: 0.125\n",
      "Itr 10 of 774, perplexity: 88.068 speed: 5343 wps\n",
      "Itr 87 of 774, perplexity: 76.869 speed: 5521 wps\n",
      "Itr 164 of 774, perplexity: 75.577 speed: 5535 wps\n",
      "Itr 241 of 774, perplexity: 73.166 speed: 5539 wps\n",
      "Itr 318 of 774, perplexity: 73.428 speed: 5548 wps\n",
      "Itr 395 of 774, perplexity: 71.837 speed: 5547 wps\n",
      "Itr 472 of 774, perplexity: 71.051 speed: 5544 wps\n",
      "Itr 549 of 774, perplexity: 68.939 speed: 5511 wps\n",
      "Itr 626 of 774, perplexity: 67.383 speed: 5485 wps\n",
      "Itr 703 of 774, perplexity: 66.344 speed: 5488 wps\n",
      "Epoch 8 : Train Perplexity: 65.694\n",
      "Epoch 8 : Valid Perplexity: 124.625\n",
      "Epoch 9 : Learning rate: 0.062\n",
      "Itr 10 of 774, perplexity: 83.986 speed: 5420 wps\n",
      "Itr 87 of 774, perplexity: 73.438 speed: 5479 wps\n",
      "Itr 164 of 774, perplexity: 72.257 speed: 5471 wps\n",
      "Itr 241 of 774, perplexity: 69.955 speed: 5474 wps\n",
      "Itr 318 of 774, perplexity: 70.229 speed: 5457 wps\n",
      "Itr 395 of 774, perplexity: 68.702 speed: 5457 wps\n",
      "Itr 472 of 774, perplexity: 67.948 speed: 5464 wps\n",
      "Itr 549 of 774, perplexity: 65.906 speed: 5471 wps\n",
      "Itr 626 of 774, perplexity: 64.395 speed: 5477 wps\n",
      "Itr 703 of 774, perplexity: 63.373 speed: 5484 wps\n",
      "Epoch 9 : Train Perplexity: 62.729\n",
      "Epoch 9 : Valid Perplexity: 124.023\n",
      "Epoch 10 : Learning rate: 0.031\n",
      "Itr 10 of 774, perplexity: 81.920 speed: 5360 wps\n",
      "Itr 87 of 774, perplexity: 71.586 speed: 5413 wps\n",
      "Itr 164 of 774, perplexity: 70.437 speed: 5409 wps\n",
      "Itr 241 of 774, perplexity: 68.196 speed: 5432 wps\n",
      "Itr 318 of 774, perplexity: 68.472 speed: 5448 wps\n",
      "Itr 395 of 774, perplexity: 66.977 speed: 5450 wps\n",
      "Itr 472 of 774, perplexity: 66.240 speed: 5438 wps\n",
      "Itr 549 of 774, perplexity: 64.242 speed: 5453 wps\n",
      "Itr 626 of 774, perplexity: 62.758 speed: 5444 wps\n",
      "Itr 703 of 774, perplexity: 61.744 speed: 5449 wps\n",
      "Epoch 10 : Train Perplexity: 61.112\n",
      "Epoch 10 : Valid Perplexity: 123.503\n",
      "Epoch 11 : Learning rate: 0.016\n",
      "Itr 10 of 774, perplexity: 80.764 speed: 5369 wps\n",
      "Itr 87 of 774, perplexity: 70.563 speed: 5454 wps\n",
      "Itr 164 of 774, perplexity: 69.434 speed: 5438 wps\n",
      "Itr 241 of 774, perplexity: 67.234 speed: 5447 wps\n",
      "Itr 318 of 774, perplexity: 67.510 speed: 5469 wps\n",
      "Itr 395 of 774, perplexity: 66.035 speed: 5479 wps\n",
      "Itr 472 of 774, perplexity: 65.304 speed: 5483 wps\n",
      "Itr 549 of 774, perplexity: 63.332 speed: 5478 wps\n",
      "Itr 626 of 774, perplexity: 61.863 speed: 5477 wps\n",
      "Itr 703 of 774, perplexity: 60.855 speed: 5475 wps\n",
      "Epoch 11 : Train Perplexity: 60.228\n",
      "Epoch 11 : Valid Perplexity: 123.174\n",
      "Epoch 12 : Learning rate: 0.008\n",
      "Itr 10 of 774, perplexity: 80.099 speed: 5401 wps\n",
      "Itr 87 of 774, perplexity: 69.996 speed: 5431 wps\n",
      "Itr 164 of 774, perplexity: 68.882 speed: 5421 wps\n",
      "Itr 241 of 774, perplexity: 66.704 speed: 5390 wps\n",
      "Itr 318 of 774, perplexity: 66.978 speed: 5390 wps\n",
      "Itr 395 of 774, perplexity: 65.518 speed: 5393 wps\n",
      "Itr 472 of 774, perplexity: 64.791 speed: 5419 wps\n",
      "Itr 549 of 774, perplexity: 62.834 speed: 5431 wps\n",
      "Itr 626 of 774, perplexity: 61.370 speed: 5444 wps\n",
      "Itr 703 of 774, perplexity: 60.368 speed: 5451 wps\n",
      "Epoch 12 : Train Perplexity: 59.743\n",
      "Epoch 12 : Valid Perplexity: 122.969\n",
      "Epoch 13 : Learning rate: 0.004\n",
      "Itr 10 of 774, perplexity: 79.712 speed: 5439 wps\n",
      "Itr 87 of 774, perplexity: 69.689 speed: 5442 wps\n",
      "Itr 164 of 774, perplexity: 68.584 speed: 5384 wps\n",
      "Itr 241 of 774, perplexity: 66.418 speed: 5393 wps\n",
      "Itr 318 of 774, perplexity: 66.691 speed: 5415 wps\n",
      "Itr 395 of 774, perplexity: 65.238 speed: 5422 wps\n",
      "Itr 472 of 774, perplexity: 64.513 speed: 5437 wps\n",
      "Itr 549 of 774, perplexity: 62.565 speed: 5421 wps\n",
      "Itr 626 of 774, perplexity: 61.104 speed: 5430 wps\n",
      "Itr 703 of 774, perplexity: 60.107 speed: 5444 wps\n",
      "Epoch 13 : Train Perplexity: 59.482\n",
      "Epoch 13 : Valid Perplexity: 122.779\n",
      "Epoch 14 : Learning rate: 0.002\n",
      "Itr 10 of 774, perplexity: 79.476 speed: 5460 wps\n",
      "Itr 87 of 774, perplexity: 69.513 speed: 5454 wps\n",
      "Itr 164 of 774, perplexity: 68.419 speed: 5350 wps\n",
      "Itr 241 of 774, perplexity: 66.263 speed: 5351 wps\n"
     ]
    },
    {
     "name": "stdout",
     "output_type": "stream",
     "text": [
      "Itr 318 of 774, perplexity: 66.539 speed: 5344 wps\n",
      "Itr 395 of 774, perplexity: 65.089 speed: 5311 wps\n",
      "Itr 472 of 774, perplexity: 64.366 speed: 5322 wps\n",
      "Itr 549 of 774, perplexity: 62.423 speed: 5365 wps\n",
      "Itr 626 of 774, perplexity: 60.964 speed: 5398 wps\n",
      "Itr 703 of 774, perplexity: 59.970 speed: 5423 wps\n",
      "Epoch 14 : Train Perplexity: 59.345\n",
      "Epoch 14 : Valid Perplexity: 122.601\n",
      "Epoch 15 : Learning rate: 0.001\n",
      "Itr 10 of 774, perplexity: 79.332 speed: 5539 wps\n",
      "Itr 87 of 774, perplexity: 69.402 speed: 5646 wps\n",
      "Itr 164 of 774, perplexity: 68.317 speed: 5645 wps\n",
      "Itr 241 of 774, perplexity: 66.171 speed: 5648 wps\n",
      "Itr 318 of 774, perplexity: 66.452 speed: 5646 wps\n",
      "Itr 395 of 774, perplexity: 65.006 speed: 5638 wps\n",
      "Itr 472 of 774, perplexity: 64.285 speed: 5616 wps\n",
      "Itr 549 of 774, perplexity: 62.346 speed: 5620 wps\n",
      "Itr 626 of 774, perplexity: 60.887 speed: 5619 wps\n",
      "Itr 703 of 774, perplexity: 59.895 speed: 5624 wps\n",
      "Epoch 15 : Train Perplexity: 59.272\n",
      "Epoch 15 : Valid Perplexity: 122.491\n",
      "Test Perplexity: 117.472\n"
     ]
    }
   ],
   "source": [
    "# Initializes the Execution Graph and the Session\n",
    "with tf.Graph().as_default(), tf.Session() as session:\n",
    "    initializer = tf.random_uniform_initializer(-init_scale, init_scale)\n",
    "    \n",
    "    # Instantiates the model for training\n",
    "    # tf.variable_scope add a prefix to the variables created with tf.get_variable\n",
    "    with tf.variable_scope(\"model\", reuse=None, initializer=initializer):\n",
    "        m = PTBModel(\"is_training\")\n",
    "        \n",
    "    # Reuses the trained parameters for the validation and testing models\n",
    "    # They are different instances but use the same variables for weights and biases, they just don't change when data is input\n",
    "    with tf.variable_scope(\"model\", reuse=True, initializer=initializer):\n",
    "        mvalid = PTBModel(\"is_validating\")\n",
    "        mtest = PTBModel(\"is_testing\")\n",
    "\n",
    "    #Initialize all variables\n",
    "    tf.global_variables_initializer().run()\n",
    "\n",
    "    for i in range(max_epoch):\n",
    "        # Define the decay for this epoch\n",
    "        lr_decay = decay ** max(i - max_epoch_decay_lr, 0.0)\n",
    "        \n",
    "        # Set the decayed learning rate as the learning rate for this epoch\n",
    "        m.assign_lr(session, learning_rate * lr_decay)\n",
    "\n",
    "        print(\"Epoch %d : Learning rate: %.3f\" % (i + 1, session.run(m.lr)))\n",
    "        \n",
    "        # Run the loop for this epoch in the training model\n",
    "        train_perplexity = run_one_epoch(session, m, train_data, m.train_op, verbose=True)\n",
    "        print(\"Epoch %d : Train Perplexity: %.3f\" % (i + 1, train_perplexity))\n",
    "        \n",
    "        # Run the loop for this epoch in the validation model\n",
    "        valid_perplexity = run_one_epoch(session, mvalid, valid_data, tf.no_op())\n",
    "        print(\"Epoch %d : Valid Perplexity: %.3f\" % (i + 1, valid_perplexity))\n",
    "    \n",
    "    # Run the loop in the testing model to see how effective was our training\n",
    "    test_perplexity = run_one_epoch(session, mtest, test_data, tf.no_op())\n",
    "    \n",
    "    print(\"Test Perplexity: %.3f\" % test_perplexity)"
   ]
  },
  {
   "cell_type": "markdown",
   "metadata": {},
   "source": [
    "As you can see, the model's perplexity rating drops very quickly after a few iterations. As was elaborated before, <b>lower Perplexity means that the model is more certain about its prediction</b>. As such, we can be sure that this model is performing well!\n",
    "<hr>\n",
    "This is the end of the <b>Applying Recurrent Neural Networks to Text Processing</b> notebook. Hopefully you now have a better understanding of Recurrent Neural Networks and how to implement one utilizing TensorFlow. Thank you for reading this notebook, and good luck on your studies."
   ]
  },
  {
   "cell_type": "code",
   "execution_count": null,
   "metadata": {},
   "outputs": [],
   "source": []
  }
 ],
 "metadata": {
  "kernelspec": {
   "display_name": "py35",
   "language": "python",
   "name": "py35"
  },
  "language_info": {
   "codemirror_mode": {
    "name": "ipython",
    "version": 3
   },
   "file_extension": ".py",
   "mimetype": "text/x-python",
   "name": "python",
   "nbconvert_exporter": "python",
   "pygments_lexer": "ipython3",
   "version": "3.5.4"
  },
  "toc": {
   "base_numbering": 1,
   "nav_menu": {},
   "number_sections": true,
   "sideBar": true,
   "skip_h1_title": false,
   "title_cell": "Table of Contents",
   "title_sidebar": "Contents",
   "toc_cell": false,
   "toc_position": {
    "height": "calc(100% - 180px)",
    "left": "10px",
    "top": "150px",
    "width": "186.705px"
   },
   "toc_section_display": true,
   "toc_window_display": false
  }
 },
 "nbformat": 4,
 "nbformat_minor": 2
}
